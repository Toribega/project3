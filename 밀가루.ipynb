{
 "cells": [
  {
   "cell_type": "code",
   "execution_count": 2,
   "metadata": {},
   "outputs": [],
   "source": [
    "import pandas as pd"
   ]
  },
  {
   "cell_type": "code",
   "execution_count": 3,
   "metadata": {},
   "outputs": [],
   "source": [
    "data = pd.read_csv('C:\\\\Users\\\\whals\\\\OneDrive\\\\바탕 화면\\\\석사\\\\7월공부\\\\밀가루 (2).csv',\n",
    "                encoding='euc-kr')"
   ]
  },
  {
   "cell_type": "code",
   "execution_count": 4,
   "metadata": {
    "scrolled": true
   },
   "outputs": [
    {
     "name": "stdout",
     "output_type": "stream",
     "text": [
      "<class 'pandas.core.frame.DataFrame'>\n",
      "RangeIndex: 95 entries, 0 to 94\n",
      "Data columns (total 11 columns):\n",
      " #   Column            Non-Null Count  Dtype  \n",
      "---  ------            --------------  -----  \n",
      " 0   Year              95 non-null     int64  \n",
      " 1   Vareity           95 non-null     object \n",
      " 2   Color L           93 non-null     float64\n",
      " 3   Color a           93 non-null     float64\n",
      " 4   Color b           93 non-null     float64\n",
      " 5   Protein           93 non-null     float64\n",
      " 6   Ash               93 non-null     float64\n",
      " 7   Wet Glueten       93 non-null     float64\n",
      " 8   Peak time         93 non-null     float64\n",
      " 9   Stability         93 non-null     float64\n",
      " 10  Water absoprtion  93 non-null     float64\n",
      "dtypes: float64(9), int64(1), object(1)\n",
      "memory usage: 8.3+ KB\n"
     ]
    }
   ],
   "source": [
    "data.info()"
   ]
  },
  {
   "cell_type": "markdown",
   "metadata": {},
   "source": [
    "# 데이터 전처리"
   ]
  },
  {
   "cell_type": "code",
   "execution_count": 5,
   "metadata": {
    "scrolled": true
   },
   "outputs": [
    {
     "data": {
      "text/html": [
       "<div>\n",
       "<style scoped>\n",
       "    .dataframe tbody tr th:only-of-type {\n",
       "        vertical-align: middle;\n",
       "    }\n",
       "\n",
       "    .dataframe tbody tr th {\n",
       "        vertical-align: top;\n",
       "    }\n",
       "\n",
       "    .dataframe thead th {\n",
       "        text-align: right;\n",
       "    }\n",
       "</style>\n",
       "<table border=\"1\" class=\"dataframe\">\n",
       "  <thead>\n",
       "    <tr style=\"text-align: right;\">\n",
       "      <th></th>\n",
       "      <th>Year</th>\n",
       "      <th>Vareity</th>\n",
       "      <th>Color L</th>\n",
       "      <th>Color a</th>\n",
       "      <th>Color b</th>\n",
       "      <th>Protein</th>\n",
       "      <th>Ash</th>\n",
       "      <th>Wet Glueten</th>\n",
       "      <th>Peak time</th>\n",
       "      <th>Stability</th>\n",
       "      <th>Water absoprtion</th>\n",
       "    </tr>\n",
       "  </thead>\n",
       "  <tbody>\n",
       "    <tr>\n",
       "      <th>17</th>\n",
       "      <td>2017</td>\n",
       "      <td>Hard White</td>\n",
       "      <td>NaN</td>\n",
       "      <td>NaN</td>\n",
       "      <td>NaN</td>\n",
       "      <td>NaN</td>\n",
       "      <td>NaN</td>\n",
       "      <td>NaN</td>\n",
       "      <td>NaN</td>\n",
       "      <td>NaN</td>\n",
       "      <td>NaN</td>\n",
       "    </tr>\n",
       "    <tr>\n",
       "      <th>47</th>\n",
       "      <td>2011</td>\n",
       "      <td>Hard White</td>\n",
       "      <td>NaN</td>\n",
       "      <td>NaN</td>\n",
       "      <td>NaN</td>\n",
       "      <td>NaN</td>\n",
       "      <td>NaN</td>\n",
       "      <td>NaN</td>\n",
       "      <td>NaN</td>\n",
       "      <td>NaN</td>\n",
       "      <td>NaN</td>\n",
       "    </tr>\n",
       "  </tbody>\n",
       "</table>\n",
       "</div>"
      ],
      "text/plain": [
       "    Year     Vareity  Color L  Color a  Color b  Protein  Ash  Wet Glueten  \\\n",
       "17  2017  Hard White      NaN      NaN      NaN      NaN  NaN          NaN   \n",
       "47  2011  Hard White      NaN      NaN      NaN      NaN  NaN          NaN   \n",
       "\n",
       "    Peak time  Stability  Water absoprtion  \n",
       "17        NaN        NaN               NaN  \n",
       "47        NaN        NaN               NaN  "
      ]
     },
     "execution_count": 5,
     "metadata": {},
     "output_type": "execute_result"
    }
   ],
   "source": [
    "data[data['Color L'].isnull()]"
   ]
  },
  {
   "cell_type": "code",
   "execution_count": 6,
   "metadata": {},
   "outputs": [],
   "source": [
    "data1 = data.drop([17,47],axis=0)"
   ]
  },
  {
   "cell_type": "code",
   "execution_count": 7,
   "metadata": {},
   "outputs": [],
   "source": [
    "tmp = data1.groupby('Vareity').mean()"
   ]
  },
  {
   "cell_type": "code",
   "execution_count": 8,
   "metadata": {},
   "outputs": [
    {
     "data": {
      "text/html": [
       "<div>\n",
       "<style scoped>\n",
       "    .dataframe tbody tr th:only-of-type {\n",
       "        vertical-align: middle;\n",
       "    }\n",
       "\n",
       "    .dataframe tbody tr th {\n",
       "        vertical-align: top;\n",
       "    }\n",
       "\n",
       "    .dataframe thead th {\n",
       "        text-align: right;\n",
       "    }\n",
       "</style>\n",
       "<table border=\"1\" class=\"dataframe\">\n",
       "  <thead>\n",
       "    <tr style=\"text-align: right;\">\n",
       "      <th></th>\n",
       "      <th>Year</th>\n",
       "      <th>Color L</th>\n",
       "      <th>Color a</th>\n",
       "      <th>Color b</th>\n",
       "      <th>Protein</th>\n",
       "      <th>Ash</th>\n",
       "      <th>Wet Glueten</th>\n",
       "      <th>Peak time</th>\n",
       "      <th>Stability</th>\n",
       "      <th>Water absoprtion</th>\n",
       "    </tr>\n",
       "    <tr>\n",
       "      <th>Vareity</th>\n",
       "      <th></th>\n",
       "      <th></th>\n",
       "      <th></th>\n",
       "      <th></th>\n",
       "      <th></th>\n",
       "      <th></th>\n",
       "      <th></th>\n",
       "      <th></th>\n",
       "      <th></th>\n",
       "      <th></th>\n",
       "    </tr>\n",
       "  </thead>\n",
       "  <tbody>\n",
       "    <tr>\n",
       "      <th>Hard Red Spring</th>\n",
       "      <td>2009.736842</td>\n",
       "      <td>90.910526</td>\n",
       "      <td>-1.363158</td>\n",
       "      <td>9.242105</td>\n",
       "      <td>11.758421</td>\n",
       "      <td>0.489474</td>\n",
       "      <td>30.257895</td>\n",
       "      <td>6.636842</td>\n",
       "      <td>12.531579</td>\n",
       "      <td>62.263158</td>\n",
       "    </tr>\n",
       "    <tr>\n",
       "      <th>Hard Red Winter</th>\n",
       "      <td>2009.736842</td>\n",
       "      <td>91.973684</td>\n",
       "      <td>-2.263158</td>\n",
       "      <td>9.494737</td>\n",
       "      <td>9.326316</td>\n",
       "      <td>0.475789</td>\n",
       "      <td>24.884211</td>\n",
       "      <td>4.647368</td>\n",
       "      <td>9.536842</td>\n",
       "      <td>57.963158</td>\n",
       "    </tr>\n",
       "    <tr>\n",
       "      <th>Hard White</th>\n",
       "      <td>2009.235294</td>\n",
       "      <td>91.664706</td>\n",
       "      <td>-2.070588</td>\n",
       "      <td>7.647059</td>\n",
       "      <td>10.817647</td>\n",
       "      <td>0.449412</td>\n",
       "      <td>28.111765</td>\n",
       "      <td>7.358824</td>\n",
       "      <td>20.352941</td>\n",
       "      <td>61.017647</td>\n",
       "    </tr>\n",
       "    <tr>\n",
       "      <th>Soft Red Winter</th>\n",
       "      <td>2009.736842</td>\n",
       "      <td>92.536842</td>\n",
       "      <td>-2.910526</td>\n",
       "      <td>8.321053</td>\n",
       "      <td>8.257895</td>\n",
       "      <td>0.440000</td>\n",
       "      <td>22.000000</td>\n",
       "      <td>1.500000</td>\n",
       "      <td>2.694737</td>\n",
       "      <td>52.615789</td>\n",
       "    </tr>\n",
       "    <tr>\n",
       "      <th>Soft White</th>\n",
       "      <td>2009.736842</td>\n",
       "      <td>92.384211</td>\n",
       "      <td>-2.526316</td>\n",
       "      <td>7.968421</td>\n",
       "      <td>7.284211</td>\n",
       "      <td>0.426842</td>\n",
       "      <td>16.510526</td>\n",
       "      <td>1.347368</td>\n",
       "      <td>1.931579</td>\n",
       "      <td>50.984211</td>\n",
       "    </tr>\n",
       "  </tbody>\n",
       "</table>\n",
       "</div>"
      ],
      "text/plain": [
       "                        Year    Color L   Color a   Color b    Protein  \\\n",
       "Vareity                                                                  \n",
       "Hard Red Spring  2009.736842  90.910526 -1.363158  9.242105  11.758421   \n",
       "Hard Red Winter  2009.736842  91.973684 -2.263158  9.494737   9.326316   \n",
       "Hard White       2009.235294  91.664706 -2.070588  7.647059  10.817647   \n",
       "Soft Red Winter  2009.736842  92.536842 -2.910526  8.321053   8.257895   \n",
       "Soft White       2009.736842  92.384211 -2.526316  7.968421   7.284211   \n",
       "\n",
       "                      Ash  Wet Glueten  Peak time  Stability  Water absoprtion  \n",
       "Vareity                                                                         \n",
       "Hard Red Spring  0.489474    30.257895   6.636842  12.531579         62.263158  \n",
       "Hard Red Winter  0.475789    24.884211   4.647368   9.536842         57.963158  \n",
       "Hard White       0.449412    28.111765   7.358824  20.352941         61.017647  \n",
       "Soft Red Winter  0.440000    22.000000   1.500000   2.694737         52.615789  \n",
       "Soft White       0.426842    16.510526   1.347368   1.931579         50.984211  "
      ]
     },
     "execution_count": 8,
     "metadata": {},
     "output_type": "execute_result"
    }
   ],
   "source": [
    "tmp"
   ]
  },
  {
   "cell_type": "code",
   "execution_count": 9,
   "metadata": {},
   "outputs": [
    {
     "data": {
      "text/plain": [
       "Color L             91.664706\n",
       "Color a             -2.070588\n",
       "Color b              7.647059\n",
       "Protein             10.817647\n",
       "Ash                  0.449412\n",
       "Wet Glueten         28.111765\n",
       "Peak time            7.358824\n",
       "Stability           20.352941\n",
       "Water absoprtion    61.017647\n",
       "Name: Hard White, dtype: float64"
      ]
     },
     "execution_count": 9,
     "metadata": {},
     "output_type": "execute_result"
    }
   ],
   "source": [
    "tmp.iloc[2,1:]"
   ]
  },
  {
   "cell_type": "code",
   "execution_count": 10,
   "metadata": {},
   "outputs": [],
   "source": [
    "data.iloc[17,2:] = tmp.iloc[2,1:]"
   ]
  },
  {
   "cell_type": "code",
   "execution_count": 11,
   "metadata": {},
   "outputs": [],
   "source": [
    "data.iloc[47,2:] = tmp.iloc[2,1:]"
   ]
  },
  {
   "cell_type": "code",
   "execution_count": 12,
   "metadata": {},
   "outputs": [
    {
     "data": {
      "text/html": [
       "<div>\n",
       "<style scoped>\n",
       "    .dataframe tbody tr th:only-of-type {\n",
       "        vertical-align: middle;\n",
       "    }\n",
       "\n",
       "    .dataframe tbody tr th {\n",
       "        vertical-align: top;\n",
       "    }\n",
       "\n",
       "    .dataframe thead th {\n",
       "        text-align: right;\n",
       "    }\n",
       "</style>\n",
       "<table border=\"1\" class=\"dataframe\">\n",
       "  <thead>\n",
       "    <tr style=\"text-align: right;\">\n",
       "      <th></th>\n",
       "      <th>Year</th>\n",
       "      <th>Vareity</th>\n",
       "      <th>Color L</th>\n",
       "      <th>Color a</th>\n",
       "      <th>Color b</th>\n",
       "      <th>Protein</th>\n",
       "      <th>Ash</th>\n",
       "      <th>Wet Glueten</th>\n",
       "      <th>Peak time</th>\n",
       "      <th>Stability</th>\n",
       "      <th>Water absoprtion</th>\n",
       "    </tr>\n",
       "  </thead>\n",
       "  <tbody>\n",
       "  </tbody>\n",
       "</table>\n",
       "</div>"
      ],
      "text/plain": [
       "Empty DataFrame\n",
       "Columns: [Year, Vareity, Color L, Color a, Color b, Protein, Ash, Wet Glueten, Peak time, Stability, Water absoprtion]\n",
       "Index: []"
      ]
     },
     "execution_count": 12,
     "metadata": {},
     "output_type": "execute_result"
    }
   ],
   "source": [
    "data[data['Color L'].isnull()]"
   ]
  },
  {
   "cell_type": "markdown",
   "metadata": {},
   "source": [
    "# PCA분석"
   ]
  },
  {
   "cell_type": "code",
   "execution_count": 13,
   "metadata": {},
   "outputs": [
    {
     "data": {
      "text/html": [
       "<div>\n",
       "<style scoped>\n",
       "    .dataframe tbody tr th:only-of-type {\n",
       "        vertical-align: middle;\n",
       "    }\n",
       "\n",
       "    .dataframe tbody tr th {\n",
       "        vertical-align: top;\n",
       "    }\n",
       "\n",
       "    .dataframe thead th {\n",
       "        text-align: right;\n",
       "    }\n",
       "</style>\n",
       "<table border=\"1\" class=\"dataframe\">\n",
       "  <thead>\n",
       "    <tr style=\"text-align: right;\">\n",
       "      <th></th>\n",
       "      <th>Year</th>\n",
       "      <th>Vareity</th>\n",
       "      <th>Color L</th>\n",
       "      <th>Color a</th>\n",
       "      <th>Color b</th>\n",
       "      <th>Protein</th>\n",
       "      <th>Ash</th>\n",
       "      <th>Wet Glueten</th>\n",
       "      <th>Peak time</th>\n",
       "      <th>Stability</th>\n",
       "      <th>Water absoprtion</th>\n",
       "    </tr>\n",
       "  </thead>\n",
       "  <tbody>\n",
       "    <tr>\n",
       "      <th>0</th>\n",
       "      <td>2020</td>\n",
       "      <td>Hard Red Winter</td>\n",
       "      <td>92.3</td>\n",
       "      <td>-0.7</td>\n",
       "      <td>7.9</td>\n",
       "      <td>10.70</td>\n",
       "      <td>0.40</td>\n",
       "      <td>29.5</td>\n",
       "      <td>6.7</td>\n",
       "      <td>10.6</td>\n",
       "      <td>61.4</td>\n",
       "    </tr>\n",
       "    <tr>\n",
       "      <th>1</th>\n",
       "      <td>2020</td>\n",
       "      <td>Hard Red Spring</td>\n",
       "      <td>91.0</td>\n",
       "      <td>-1.2</td>\n",
       "      <td>9.2</td>\n",
       "      <td>11.71</td>\n",
       "      <td>0.51</td>\n",
       "      <td>28.5</td>\n",
       "      <td>6.2</td>\n",
       "      <td>12.0</td>\n",
       "      <td>59.2</td>\n",
       "    </tr>\n",
       "    <tr>\n",
       "      <th>2</th>\n",
       "      <td>2020</td>\n",
       "      <td>Hard White</td>\n",
       "      <td>91.6</td>\n",
       "      <td>-1.8</td>\n",
       "      <td>8.8</td>\n",
       "      <td>11.40</td>\n",
       "      <td>0.48</td>\n",
       "      <td>24.8</td>\n",
       "      <td>7.5</td>\n",
       "      <td>10.5</td>\n",
       "      <td>60.4</td>\n",
       "    </tr>\n",
       "    <tr>\n",
       "      <th>3</th>\n",
       "      <td>2020</td>\n",
       "      <td>Soft White</td>\n",
       "      <td>91.7</td>\n",
       "      <td>-2.2</td>\n",
       "      <td>8.5</td>\n",
       "      <td>7.60</td>\n",
       "      <td>0.43</td>\n",
       "      <td>17.0</td>\n",
       "      <td>1.2</td>\n",
       "      <td>1.5</td>\n",
       "      <td>51.1</td>\n",
       "    </tr>\n",
       "    <tr>\n",
       "      <th>4</th>\n",
       "      <td>2020</td>\n",
       "      <td>Soft Red Winter</td>\n",
       "      <td>91.4</td>\n",
       "      <td>-2.4</td>\n",
       "      <td>9.2</td>\n",
       "      <td>7.50</td>\n",
       "      <td>0.41</td>\n",
       "      <td>20.4</td>\n",
       "      <td>1.2</td>\n",
       "      <td>1.6</td>\n",
       "      <td>52.4</td>\n",
       "    </tr>\n",
       "  </tbody>\n",
       "</table>\n",
       "</div>"
      ],
      "text/plain": [
       "   Year          Vareity  Color L  Color a  Color b  Protein   Ash  \\\n",
       "0  2020  Hard Red Winter     92.3     -0.7      7.9    10.70  0.40   \n",
       "1  2020  Hard Red Spring     91.0     -1.2      9.2    11.71  0.51   \n",
       "2  2020       Hard White     91.6     -1.8      8.8    11.40  0.48   \n",
       "3  2020       Soft White     91.7     -2.2      8.5     7.60  0.43   \n",
       "4  2020  Soft Red Winter     91.4     -2.4      9.2     7.50  0.41   \n",
       "\n",
       "   Wet Glueten  Peak time  Stability  Water absoprtion  \n",
       "0         29.5        6.7       10.6              61.4  \n",
       "1         28.5        6.2       12.0              59.2  \n",
       "2         24.8        7.5       10.5              60.4  \n",
       "3         17.0        1.2        1.5              51.1  \n",
       "4         20.4        1.2        1.6              52.4  "
      ]
     },
     "execution_count": 13,
     "metadata": {},
     "output_type": "execute_result"
    }
   ],
   "source": [
    "\n",
    "data.head()"
   ]
  },
  {
   "cell_type": "code",
   "execution_count": 14,
   "metadata": {},
   "outputs": [],
   "source": [
    "from sklearn.preprocessing import StandardScaler  # 표준화 패키지 라이브러리 \n",
    "\n",
    "x = data.drop(['Vareity','Year'], axis=1).values # 독립변인들의 value값만 추출\n",
    "y = data['Vareity'].values # 종속변인 추출\n",
    "\n",
    "x = StandardScaler().fit_transform(x) # x객체에 x를 표준화한 데이터를 저장\n"
   ]
  },
  {
   "cell_type": "code",
   "execution_count": 15,
   "metadata": {},
   "outputs": [],
   "source": [
    "tmp1 = data.drop(['Vareity','Year'], axis=1)"
   ]
  },
  {
   "cell_type": "code",
   "execution_count": 16,
   "metadata": {},
   "outputs": [],
   "source": [
    "features = tmp1.columns\n",
    "df = pd.DataFrame(x, columns=features).head()"
   ]
  },
  {
   "cell_type": "code",
   "execution_count": 17,
   "metadata": {},
   "outputs": [
    {
     "data": {
      "text/html": [
       "<div>\n",
       "<style scoped>\n",
       "    .dataframe tbody tr th:only-of-type {\n",
       "        vertical-align: middle;\n",
       "    }\n",
       "\n",
       "    .dataframe tbody tr th {\n",
       "        vertical-align: top;\n",
       "    }\n",
       "\n",
       "    .dataframe thead th {\n",
       "        text-align: right;\n",
       "    }\n",
       "</style>\n",
       "<table border=\"1\" class=\"dataframe\">\n",
       "  <thead>\n",
       "    <tr style=\"text-align: right;\">\n",
       "      <th></th>\n",
       "      <th>Color L</th>\n",
       "      <th>Color a</th>\n",
       "      <th>Color b</th>\n",
       "      <th>Protein</th>\n",
       "      <th>Ash</th>\n",
       "      <th>Wet Glueten</th>\n",
       "      <th>Peak time</th>\n",
       "      <th>Stability</th>\n",
       "      <th>Water absoprtion</th>\n",
       "    </tr>\n",
       "  </thead>\n",
       "  <tbody>\n",
       "    <tr>\n",
       "      <th>0</th>\n",
       "      <td>0.426630</td>\n",
       "      <td>2.077936</td>\n",
       "      <td>-0.621781</td>\n",
       "      <td>0.614215</td>\n",
       "      <td>-1.056072</td>\n",
       "      <td>0.938223</td>\n",
       "      <td>0.731729</td>\n",
       "      <td>0.138248</td>\n",
       "      <td>0.881531</td>\n",
       "    </tr>\n",
       "    <tr>\n",
       "      <th>1</th>\n",
       "      <td>-0.939405</td>\n",
       "      <td>1.397426</td>\n",
       "      <td>0.651809</td>\n",
       "      <td>1.126441</td>\n",
       "      <td>1.007177</td>\n",
       "      <td>0.755942</td>\n",
       "      <td>0.579407</td>\n",
       "      <td>0.300829</td>\n",
       "      <td>0.443870</td>\n",
       "    </tr>\n",
       "    <tr>\n",
       "      <th>2</th>\n",
       "      <td>-0.308928</td>\n",
       "      <td>0.580814</td>\n",
       "      <td>0.259935</td>\n",
       "      <td>0.969223</td>\n",
       "      <td>0.444472</td>\n",
       "      <td>0.081502</td>\n",
       "      <td>0.975444</td>\n",
       "      <td>0.126635</td>\n",
       "      <td>0.682594</td>\n",
       "    </tr>\n",
       "    <tr>\n",
       "      <th>3</th>\n",
       "      <td>-0.203848</td>\n",
       "      <td>0.036406</td>\n",
       "      <td>-0.033970</td>\n",
       "      <td>-0.957962</td>\n",
       "      <td>-0.493368</td>\n",
       "      <td>-1.340291</td>\n",
       "      <td>-0.943810</td>\n",
       "      <td>-0.918529</td>\n",
       "      <td>-1.167520</td>\n",
       "    </tr>\n",
       "    <tr>\n",
       "      <th>4</th>\n",
       "      <td>-0.519087</td>\n",
       "      <td>-0.235798</td>\n",
       "      <td>0.651809</td>\n",
       "      <td>-1.008678</td>\n",
       "      <td>-0.868504</td>\n",
       "      <td>-0.720535</td>\n",
       "      <td>-0.943810</td>\n",
       "      <td>-0.906917</td>\n",
       "      <td>-0.908902</td>\n",
       "    </tr>\n",
       "  </tbody>\n",
       "</table>\n",
       "</div>"
      ],
      "text/plain": [
       "    Color L   Color a   Color b   Protein       Ash  Wet Glueten  Peak time  \\\n",
       "0  0.426630  2.077936 -0.621781  0.614215 -1.056072     0.938223   0.731729   \n",
       "1 -0.939405  1.397426  0.651809  1.126441  1.007177     0.755942   0.579407   \n",
       "2 -0.308928  0.580814  0.259935  0.969223  0.444472     0.081502   0.975444   \n",
       "3 -0.203848  0.036406 -0.033970 -0.957962 -0.493368    -1.340291  -0.943810   \n",
       "4 -0.519087 -0.235798  0.651809 -1.008678 -0.868504    -0.720535  -0.943810   \n",
       "\n",
       "   Stability  Water absoprtion  \n",
       "0   0.138248          0.881531  \n",
       "1   0.300829          0.443870  \n",
       "2   0.126635          0.682594  \n",
       "3  -0.918529         -1.167520  \n",
       "4  -0.906917         -0.908902  "
      ]
     },
     "execution_count": 17,
     "metadata": {},
     "output_type": "execute_result"
    }
   ],
   "source": [
    "df"
   ]
  },
  {
   "cell_type": "code",
   "execution_count": 18,
   "metadata": {},
   "outputs": [],
   "source": [
    "from sklearn.decomposition import PCA\n",
    "\n",
    "pca = PCA(n_components=2) # 주성분을 몇개로 할지 결정\n",
    "printcipalComponents = pca.fit_transform(x)\n",
    "principalDf = pd.DataFrame(data=printcipalComponents, columns = ['principal component1', 'principal component2'])\n",
    "# 주성분으로 이루어진 데이터 프레임 구성"
   ]
  },
  {
   "cell_type": "code",
   "execution_count": 19,
   "metadata": {
    "scrolled": true
   },
   "outputs": [
    {
     "data": {
      "text/html": [
       "<div>\n",
       "<style scoped>\n",
       "    .dataframe tbody tr th:only-of-type {\n",
       "        vertical-align: middle;\n",
       "    }\n",
       "\n",
       "    .dataframe tbody tr th {\n",
       "        vertical-align: top;\n",
       "    }\n",
       "\n",
       "    .dataframe thead th {\n",
       "        text-align: right;\n",
       "    }\n",
       "</style>\n",
       "<table border=\"1\" class=\"dataframe\">\n",
       "  <thead>\n",
       "    <tr style=\"text-align: right;\">\n",
       "      <th></th>\n",
       "      <th>principal component1</th>\n",
       "      <th>principal component2</th>\n",
       "    </tr>\n",
       "  </thead>\n",
       "  <tbody>\n",
       "    <tr>\n",
       "      <th>0</th>\n",
       "      <td>1.625540</td>\n",
       "      <td>1.120987</td>\n",
       "    </tr>\n",
       "    <tr>\n",
       "      <th>1</th>\n",
       "      <td>2.278058</td>\n",
       "      <td>-0.938554</td>\n",
       "    </tr>\n",
       "    <tr>\n",
       "      <th>2</th>\n",
       "      <td>1.510192</td>\n",
       "      <td>-0.102202</td>\n",
       "    </tr>\n",
       "    <tr>\n",
       "      <th>3</th>\n",
       "      <td>-2.090091</td>\n",
       "      <td>-0.684047</td>\n",
       "    </tr>\n",
       "    <tr>\n",
       "      <th>4</th>\n",
       "      <td>-1.728280</td>\n",
       "      <td>-0.883085</td>\n",
       "    </tr>\n",
       "  </tbody>\n",
       "</table>\n",
       "</div>"
      ],
      "text/plain": [
       "   principal component1  principal component2\n",
       "0              1.625540              1.120987\n",
       "1              2.278058             -0.938554\n",
       "2              1.510192             -0.102202\n",
       "3             -2.090091             -0.684047\n",
       "4             -1.728280             -0.883085"
      ]
     },
     "execution_count": 19,
     "metadata": {},
     "output_type": "execute_result"
    }
   ],
   "source": [
    "principalDf.head()"
   ]
  },
  {
   "cell_type": "code",
   "execution_count": 20,
   "metadata": {},
   "outputs": [],
   "source": [
    "finalDf = pd.concat([principalDf, data[['Vareity']]], axis = 1)"
   ]
  },
  {
   "cell_type": "code",
   "execution_count": 21,
   "metadata": {},
   "outputs": [
    {
     "data": {
      "text/html": [
       "<div>\n",
       "<style scoped>\n",
       "    .dataframe tbody tr th:only-of-type {\n",
       "        vertical-align: middle;\n",
       "    }\n",
       "\n",
       "    .dataframe tbody tr th {\n",
       "        vertical-align: top;\n",
       "    }\n",
       "\n",
       "    .dataframe thead th {\n",
       "        text-align: right;\n",
       "    }\n",
       "</style>\n",
       "<table border=\"1\" class=\"dataframe\">\n",
       "  <thead>\n",
       "    <tr style=\"text-align: right;\">\n",
       "      <th></th>\n",
       "      <th>principal component1</th>\n",
       "      <th>principal component2</th>\n",
       "      <th>Vareity</th>\n",
       "    </tr>\n",
       "  </thead>\n",
       "  <tbody>\n",
       "    <tr>\n",
       "      <th>0</th>\n",
       "      <td>1.625540</td>\n",
       "      <td>1.120987</td>\n",
       "      <td>Hard Red Winter</td>\n",
       "    </tr>\n",
       "    <tr>\n",
       "      <th>1</th>\n",
       "      <td>2.278058</td>\n",
       "      <td>-0.938554</td>\n",
       "      <td>Hard Red Spring</td>\n",
       "    </tr>\n",
       "    <tr>\n",
       "      <th>2</th>\n",
       "      <td>1.510192</td>\n",
       "      <td>-0.102202</td>\n",
       "      <td>Hard White</td>\n",
       "    </tr>\n",
       "    <tr>\n",
       "      <th>3</th>\n",
       "      <td>-2.090091</td>\n",
       "      <td>-0.684047</td>\n",
       "      <td>Soft White</td>\n",
       "    </tr>\n",
       "    <tr>\n",
       "      <th>4</th>\n",
       "      <td>-1.728280</td>\n",
       "      <td>-0.883085</td>\n",
       "      <td>Soft Red Winter</td>\n",
       "    </tr>\n",
       "    <tr>\n",
       "      <th>...</th>\n",
       "      <td>...</td>\n",
       "      <td>...</td>\n",
       "      <td>...</td>\n",
       "    </tr>\n",
       "    <tr>\n",
       "      <th>90</th>\n",
       "      <td>-0.397870</td>\n",
       "      <td>-0.073733</td>\n",
       "      <td>Hard Red Winter</td>\n",
       "    </tr>\n",
       "    <tr>\n",
       "      <th>91</th>\n",
       "      <td>2.663321</td>\n",
       "      <td>-0.665101</td>\n",
       "      <td>Hard Red Spring</td>\n",
       "    </tr>\n",
       "    <tr>\n",
       "      <th>92</th>\n",
       "      <td>2.294284</td>\n",
       "      <td>4.042128</td>\n",
       "      <td>Hard White</td>\n",
       "    </tr>\n",
       "    <tr>\n",
       "      <th>93</th>\n",
       "      <td>-3.843581</td>\n",
       "      <td>0.686012</td>\n",
       "      <td>Soft White</td>\n",
       "    </tr>\n",
       "    <tr>\n",
       "      <th>94</th>\n",
       "      <td>-2.650074</td>\n",
       "      <td>0.327082</td>\n",
       "      <td>Soft Red Winter</td>\n",
       "    </tr>\n",
       "  </tbody>\n",
       "</table>\n",
       "<p>95 rows × 3 columns</p>\n",
       "</div>"
      ],
      "text/plain": [
       "    principal component1  principal component2          Vareity\n",
       "0               1.625540              1.120987  Hard Red Winter\n",
       "1               2.278058             -0.938554  Hard Red Spring\n",
       "2               1.510192             -0.102202       Hard White\n",
       "3              -2.090091             -0.684047       Soft White\n",
       "4              -1.728280             -0.883085  Soft Red Winter\n",
       "..                   ...                   ...              ...\n",
       "90             -0.397870             -0.073733  Hard Red Winter\n",
       "91              2.663321             -0.665101  Hard Red Spring\n",
       "92              2.294284              4.042128       Hard White\n",
       "93             -3.843581              0.686012       Soft White\n",
       "94             -2.650074              0.327082  Soft Red Winter\n",
       "\n",
       "[95 rows x 3 columns]"
      ]
     },
     "execution_count": 21,
     "metadata": {},
     "output_type": "execute_result"
    }
   ],
   "source": [
    "finalDf"
   ]
  },
  {
   "cell_type": "code",
   "execution_count": 22,
   "metadata": {
    "scrolled": true
   },
   "outputs": [
    {
     "data": {
      "image/png": "[encoded data removed]",
      "text/plain": [
       "<Figure size 1080x576 with 1 Axes>"
      ]
     },
     "metadata": {
      "needs_background": "light"
     },
     "output_type": "display_data"
    }
   ],
   "source": [
    "import matplotlib.pyplot as plt\n",
    "\n",
    "fig = plt.figure(figsize = (15,8))\n",
    "ax = fig.add_subplot(1, 1, 1)\n",
    "ax.set_xlabel('Principal Component 1', fontsize = 15)\n",
    "ax.set_ylabel('Principal Component 2', fontsize = 15)\n",
    "ax.set_title('2 component PCA', fontsize=20)\n",
    "\n",
    "targets = ['Hard Red Winter','Hard Red Spring','Hard White','Soft White','Soft Red Winter']\n",
    "colors = ['red','blue','orange','purple','olive']\n",
    "for target, color in zip(targets,colors):\n",
    "    indicesToKeep = finalDf['Vareity'] == target\n",
    "    ax.scatter(finalDf.loc[indicesToKeep, 'principal component1']\n",
    "               , finalDf.loc[indicesToKeep, 'principal component2']\n",
    "               , c = color\n",
    "               , s = 50)\n",
    "ax.legend(targets)\n",
    "ax.grid()"
   ]
  },
  {
   "cell_type": "code",
   "execution_count": 23,
   "metadata": {},
   "outputs": [],
   "source": [
    "data2 = pd.concat([principalDf, tmp1], axis=1)"
   ]
  },
  {
   "cell_type": "code",
   "execution_count": 24,
   "metadata": {
    "scrolled": true
   },
   "outputs": [
    {
     "data": {
      "text/html": [
       "<div>\n",
       "<style scoped>\n",
       "    .dataframe tbody tr th:only-of-type {\n",
       "        vertical-align: middle;\n",
       "    }\n",
       "\n",
       "    .dataframe tbody tr th {\n",
       "        vertical-align: top;\n",
       "    }\n",
       "\n",
       "    .dataframe thead th {\n",
       "        text-align: right;\n",
       "    }\n",
       "</style>\n",
       "<table border=\"1\" class=\"dataframe\">\n",
       "  <thead>\n",
       "    <tr style=\"text-align: right;\">\n",
       "      <th></th>\n",
       "      <th>principal component1</th>\n",
       "      <th>principal component2</th>\n",
       "      <th>Color L</th>\n",
       "      <th>Color a</th>\n",
       "      <th>Color b</th>\n",
       "      <th>Protein</th>\n",
       "      <th>Ash</th>\n",
       "      <th>Wet Glueten</th>\n",
       "      <th>Peak time</th>\n",
       "      <th>Stability</th>\n",
       "      <th>Water absoprtion</th>\n",
       "    </tr>\n",
       "  </thead>\n",
       "  <tbody>\n",
       "    <tr>\n",
       "      <th>0</th>\n",
       "      <td>1.625540</td>\n",
       "      <td>1.120987</td>\n",
       "      <td>92.3</td>\n",
       "      <td>-0.7</td>\n",
       "      <td>7.9</td>\n",
       "      <td>10.70</td>\n",
       "      <td>0.40</td>\n",
       "      <td>29.5</td>\n",
       "      <td>6.7</td>\n",
       "      <td>10.6</td>\n",
       "      <td>61.4</td>\n",
       "    </tr>\n",
       "    <tr>\n",
       "      <th>1</th>\n",
       "      <td>2.278058</td>\n",
       "      <td>-0.938554</td>\n",
       "      <td>91.0</td>\n",
       "      <td>-1.2</td>\n",
       "      <td>9.2</td>\n",
       "      <td>11.71</td>\n",
       "      <td>0.51</td>\n",
       "      <td>28.5</td>\n",
       "      <td>6.2</td>\n",
       "      <td>12.0</td>\n",
       "      <td>59.2</td>\n",
       "    </tr>\n",
       "    <tr>\n",
       "      <th>2</th>\n",
       "      <td>1.510192</td>\n",
       "      <td>-0.102202</td>\n",
       "      <td>91.6</td>\n",
       "      <td>-1.8</td>\n",
       "      <td>8.8</td>\n",
       "      <td>11.40</td>\n",
       "      <td>0.48</td>\n",
       "      <td>24.8</td>\n",
       "      <td>7.5</td>\n",
       "      <td>10.5</td>\n",
       "      <td>60.4</td>\n",
       "    </tr>\n",
       "    <tr>\n",
       "      <th>3</th>\n",
       "      <td>-2.090091</td>\n",
       "      <td>-0.684047</td>\n",
       "      <td>91.7</td>\n",
       "      <td>-2.2</td>\n",
       "      <td>8.5</td>\n",
       "      <td>7.60</td>\n",
       "      <td>0.43</td>\n",
       "      <td>17.0</td>\n",
       "      <td>1.2</td>\n",
       "      <td>1.5</td>\n",
       "      <td>51.1</td>\n",
       "    </tr>\n",
       "    <tr>\n",
       "      <th>4</th>\n",
       "      <td>-1.728280</td>\n",
       "      <td>-0.883085</td>\n",
       "      <td>91.4</td>\n",
       "      <td>-2.4</td>\n",
       "      <td>9.2</td>\n",
       "      <td>7.50</td>\n",
       "      <td>0.41</td>\n",
       "      <td>20.4</td>\n",
       "      <td>1.2</td>\n",
       "      <td>1.6</td>\n",
       "      <td>52.4</td>\n",
       "    </tr>\n",
       "    <tr>\n",
       "      <th>...</th>\n",
       "      <td>...</td>\n",
       "      <td>...</td>\n",
       "      <td>...</td>\n",
       "      <td>...</td>\n",
       "      <td>...</td>\n",
       "      <td>...</td>\n",
       "      <td>...</td>\n",
       "      <td>...</td>\n",
       "      <td>...</td>\n",
       "      <td>...</td>\n",
       "      <td>...</td>\n",
       "    </tr>\n",
       "    <tr>\n",
       "      <th>90</th>\n",
       "      <td>-0.397870</td>\n",
       "      <td>-0.073733</td>\n",
       "      <td>92.9</td>\n",
       "      <td>-3.5</td>\n",
       "      <td>9.6</td>\n",
       "      <td>9.80</td>\n",
       "      <td>0.48</td>\n",
       "      <td>24.2</td>\n",
       "      <td>4.8</td>\n",
       "      <td>9.9</td>\n",
       "      <td>59.2</td>\n",
       "    </tr>\n",
       "    <tr>\n",
       "      <th>91</th>\n",
       "      <td>2.663321</td>\n",
       "      <td>-0.665101</td>\n",
       "      <td>90.5</td>\n",
       "      <td>-1.6</td>\n",
       "      <td>9.7</td>\n",
       "      <td>11.50</td>\n",
       "      <td>0.46</td>\n",
       "      <td>30.0</td>\n",
       "      <td>6.9</td>\n",
       "      <td>13.4</td>\n",
       "      <td>63.1</td>\n",
       "    </tr>\n",
       "    <tr>\n",
       "      <th>92</th>\n",
       "      <td>2.294284</td>\n",
       "      <td>4.042128</td>\n",
       "      <td>91.7</td>\n",
       "      <td>-2.1</td>\n",
       "      <td>6.4</td>\n",
       "      <td>10.20</td>\n",
       "      <td>0.39</td>\n",
       "      <td>23.6</td>\n",
       "      <td>17.8</td>\n",
       "      <td>32.6</td>\n",
       "      <td>59.2</td>\n",
       "    </tr>\n",
       "    <tr>\n",
       "      <th>93</th>\n",
       "      <td>-3.843581</td>\n",
       "      <td>0.686012</td>\n",
       "      <td>92.7</td>\n",
       "      <td>-2.8</td>\n",
       "      <td>7.7</td>\n",
       "      <td>6.90</td>\n",
       "      <td>0.38</td>\n",
       "      <td>15.8</td>\n",
       "      <td>1.3</td>\n",
       "      <td>1.9</td>\n",
       "      <td>43.0</td>\n",
       "    </tr>\n",
       "    <tr>\n",
       "      <th>94</th>\n",
       "      <td>-2.650074</td>\n",
       "      <td>0.327082</td>\n",
       "      <td>93.7</td>\n",
       "      <td>-3.7</td>\n",
       "      <td>8.6</td>\n",
       "      <td>8.30</td>\n",
       "      <td>0.45</td>\n",
       "      <td>20.7</td>\n",
       "      <td>1.5</td>\n",
       "      <td>3.2</td>\n",
       "      <td>53.2</td>\n",
       "    </tr>\n",
       "  </tbody>\n",
       "</table>\n",
       "<p>95 rows × 11 columns</p>\n",
       "</div>"
      ],
      "text/plain": [
       "    principal component1  principal component2  Color L  Color a  Color b  \\\n",
       "0               1.625540              1.120987     92.3     -0.7      7.9   \n",
       "1               2.278058             -0.938554     91.0     -1.2      9.2   \n",
       "2               1.510192             -0.102202     91.6     -1.8      8.8   \n",
       "3              -2.090091             -0.684047     91.7     -2.2      8.5   \n",
       "4              -1.728280             -0.883085     91.4     -2.4      9.2   \n",
       "..                   ...                   ...      ...      ...      ...   \n",
       "90             -0.397870             -0.073733     92.9     -3.5      9.6   \n",
       "91              2.663321             -0.665101     90.5     -1.6      9.7   \n",
       "92              2.294284              4.042128     91.7     -2.1      6.4   \n",
       "93             -3.843581              0.686012     92.7     -2.8      7.7   \n",
       "94             -2.650074              0.327082     93.7     -3.7      8.6   \n",
       "\n",
       "    Protein   Ash  Wet Glueten  Peak time  Stability  Water absoprtion  \n",
       "0     10.70  0.40         29.5        6.7       10.6              61.4  \n",
       "1     11.71  0.51         28.5        6.2       12.0              59.2  \n",
       "2     11.40  0.48         24.8        7.5       10.5              60.4  \n",
       "3      7.60  0.43         17.0        1.2        1.5              51.1  \n",
       "4      7.50  0.41         20.4        1.2        1.6              52.4  \n",
       "..      ...   ...          ...        ...        ...               ...  \n",
       "90     9.80  0.48         24.2        4.8        9.9              59.2  \n",
       "91    11.50  0.46         30.0        6.9       13.4              63.1  \n",
       "92    10.20  0.39         23.6       17.8       32.6              59.2  \n",
       "93     6.90  0.38         15.8        1.3        1.9              43.0  \n",
       "94     8.30  0.45         20.7        1.5        3.2              53.2  \n",
       "\n",
       "[95 rows x 11 columns]"
      ]
     },
     "execution_count": 24,
     "metadata": {},
     "output_type": "execute_result"
    }
   ],
   "source": [
    "data2"
   ]
  },
  {
   "cell_type": "code",
   "execution_count": 25,
   "metadata": {
    "collapsed": true
   },
   "outputs": [
    {
     "data": {
      "text/html": [
       "<div>\n",
       "<style scoped>\n",
       "    .dataframe tbody tr th:only-of-type {\n",
       "        vertical-align: middle;\n",
       "    }\n",
       "\n",
       "    .dataframe tbody tr th {\n",
       "        vertical-align: top;\n",
       "    }\n",
       "\n",
       "    .dataframe thead th {\n",
       "        text-align: right;\n",
       "    }\n",
       "</style>\n",
       "<table border=\"1\" class=\"dataframe\">\n",
       "  <thead>\n",
       "    <tr style=\"text-align: right;\">\n",
       "      <th></th>\n",
       "      <th>principal component1</th>\n",
       "      <th>principal component2</th>\n",
       "      <th>Color L</th>\n",
       "      <th>Color a</th>\n",
       "      <th>Color b</th>\n",
       "      <th>Protein</th>\n",
       "      <th>Ash</th>\n",
       "      <th>Wet Glueten</th>\n",
       "      <th>Peak time</th>\n",
       "      <th>Stability</th>\n",
       "      <th>Water absoprtion</th>\n",
       "    </tr>\n",
       "  </thead>\n",
       "  <tbody>\n",
       "    <tr>\n",
       "      <th>principal component1</th>\n",
       "      <td>1.000000e+00</td>\n",
       "      <td>-3.000408e-17</td>\n",
       "      <td>-0.655939</td>\n",
       "      <td>0.723020</td>\n",
       "      <td>0.234977</td>\n",
       "      <td>0.832846</td>\n",
       "      <td>0.407071</td>\n",
       "      <td>0.894212</td>\n",
       "      <td>0.797961</td>\n",
       "      <td>0.660550</td>\n",
       "      <td>0.909545</td>\n",
       "    </tr>\n",
       "    <tr>\n",
       "      <th>principal component2</th>\n",
       "      <td>-3.000408e-17</td>\n",
       "      <td>1.000000e+00</td>\n",
       "      <td>0.467352</td>\n",
       "      <td>-0.233558</td>\n",
       "      <td>-0.769414</td>\n",
       "      <td>0.191346</td>\n",
       "      <td>-0.726605</td>\n",
       "      <td>0.102637</td>\n",
       "      <td>0.398793</td>\n",
       "      <td>0.565047</td>\n",
       "      <td>0.010326</td>\n",
       "    </tr>\n",
       "    <tr>\n",
       "      <th>Color L</th>\n",
       "      <td>-6.559386e-01</td>\n",
       "      <td>4.673518e-01</td>\n",
       "      <td>1.000000</td>\n",
       "      <td>-0.662179</td>\n",
       "      <td>-0.395296</td>\n",
       "      <td>-0.356354</td>\n",
       "      <td>-0.497123</td>\n",
       "      <td>-0.424803</td>\n",
       "      <td>-0.362578</td>\n",
       "      <td>-0.228795</td>\n",
       "      <td>-0.493600</td>\n",
       "    </tr>\n",
       "    <tr>\n",
       "      <th>Color a</th>\n",
       "      <td>7.230201e-01</td>\n",
       "      <td>-2.335580e-01</td>\n",
       "      <td>-0.662179</td>\n",
       "      <td>1.000000</td>\n",
       "      <td>0.230566</td>\n",
       "      <td>0.461832</td>\n",
       "      <td>0.304692</td>\n",
       "      <td>0.517854</td>\n",
       "      <td>0.436827</td>\n",
       "      <td>0.303596</td>\n",
       "      <td>0.626705</td>\n",
       "    </tr>\n",
       "    <tr>\n",
       "      <th>Color b</th>\n",
       "      <td>2.349774e-01</td>\n",
       "      <td>-7.694140e-01</td>\n",
       "      <td>-0.395296</td>\n",
       "      <td>0.230566</td>\n",
       "      <td>1.000000</td>\n",
       "      <td>0.103742</td>\n",
       "      <td>0.510892</td>\n",
       "      <td>0.142530</td>\n",
       "      <td>-0.072514</td>\n",
       "      <td>-0.184734</td>\n",
       "      <td>0.187303</td>\n",
       "    </tr>\n",
       "    <tr>\n",
       "      <th>Protein</th>\n",
       "      <td>8.328460e-01</td>\n",
       "      <td>1.913457e-01</td>\n",
       "      <td>-0.356354</td>\n",
       "      <td>0.461832</td>\n",
       "      <td>0.103742</td>\n",
       "      <td>1.000000</td>\n",
       "      <td>0.192925</td>\n",
       "      <td>0.819334</td>\n",
       "      <td>0.668109</td>\n",
       "      <td>0.552198</td>\n",
       "      <td>0.736729</td>\n",
       "    </tr>\n",
       "    <tr>\n",
       "      <th>Ash</th>\n",
       "      <td>4.070713e-01</td>\n",
       "      <td>-7.266048e-01</td>\n",
       "      <td>-0.497123</td>\n",
       "      <td>0.304692</td>\n",
       "      <td>0.510892</td>\n",
       "      <td>0.192925</td>\n",
       "      <td>1.000000</td>\n",
       "      <td>0.340132</td>\n",
       "      <td>0.056633</td>\n",
       "      <td>-0.122567</td>\n",
       "      <td>0.392230</td>\n",
       "    </tr>\n",
       "    <tr>\n",
       "      <th>Wet Glueten</th>\n",
       "      <td>8.942123e-01</td>\n",
       "      <td>1.026373e-01</td>\n",
       "      <td>-0.424803</td>\n",
       "      <td>0.517854</td>\n",
       "      <td>0.142530</td>\n",
       "      <td>0.819334</td>\n",
       "      <td>0.340132</td>\n",
       "      <td>1.000000</td>\n",
       "      <td>0.692549</td>\n",
       "      <td>0.582496</td>\n",
       "      <td>0.819461</td>\n",
       "    </tr>\n",
       "    <tr>\n",
       "      <th>Peak time</th>\n",
       "      <td>7.979607e-01</td>\n",
       "      <td>3.987929e-01</td>\n",
       "      <td>-0.362578</td>\n",
       "      <td>0.436827</td>\n",
       "      <td>-0.072514</td>\n",
       "      <td>0.668109</td>\n",
       "      <td>0.056633</td>\n",
       "      <td>0.692549</td>\n",
       "      <td>1.000000</td>\n",
       "      <td>0.738198</td>\n",
       "      <td>0.685762</td>\n",
       "    </tr>\n",
       "    <tr>\n",
       "      <th>Stability</th>\n",
       "      <td>6.605501e-01</td>\n",
       "      <td>5.650471e-01</td>\n",
       "      <td>-0.228795</td>\n",
       "      <td>0.303596</td>\n",
       "      <td>-0.184734</td>\n",
       "      <td>0.552198</td>\n",
       "      <td>-0.122567</td>\n",
       "      <td>0.582496</td>\n",
       "      <td>0.738198</td>\n",
       "      <td>1.000000</td>\n",
       "      <td>0.561187</td>\n",
       "    </tr>\n",
       "    <tr>\n",
       "      <th>Water absoprtion</th>\n",
       "      <td>9.095455e-01</td>\n",
       "      <td>1.032609e-02</td>\n",
       "      <td>-0.493600</td>\n",
       "      <td>0.626705</td>\n",
       "      <td>0.187303</td>\n",
       "      <td>0.736729</td>\n",
       "      <td>0.392230</td>\n",
       "      <td>0.819461</td>\n",
       "      <td>0.685762</td>\n",
       "      <td>0.561187</td>\n",
       "      <td>1.000000</td>\n",
       "    </tr>\n",
       "  </tbody>\n",
       "</table>\n",
       "</div>"
      ],
      "text/plain": [
       "                      principal component1  principal component2   Color L  \\\n",
       "principal component1          1.000000e+00         -3.000408e-17 -0.655939   \n",
       "principal component2         -3.000408e-17          1.000000e+00  0.467352   \n",
       "Color L                      -6.559386e-01          4.673518e-01  1.000000   \n",
       "Color a                       7.230201e-01         -2.335580e-01 -0.662179   \n",
       "Color b                       2.349774e-01         -7.694140e-01 -0.395296   \n",
       "Protein                       8.328460e-01          1.913457e-01 -0.356354   \n",
       "Ash                           4.070713e-01         -7.266048e-01 -0.497123   \n",
       "Wet Glueten                   8.942123e-01          1.026373e-01 -0.424803   \n",
       "Peak time                     7.979607e-01          3.987929e-01 -0.362578   \n",
       "Stability                     6.605501e-01          5.650471e-01 -0.228795   \n",
       "Water absoprtion              9.095455e-01          1.032609e-02 -0.493600   \n",
       "\n",
       "                       Color a   Color b   Protein       Ash  Wet Glueten  \\\n",
       "principal component1  0.723020  0.234977  0.832846  0.407071     0.894212   \n",
       "principal component2 -0.233558 -0.769414  0.191346 -0.726605     0.102637   \n",
       "Color L              -0.662179 -0.395296 -0.356354 -0.497123    -0.424803   \n",
       "Color a               1.000000  0.230566  0.461832  0.304692     0.517854   \n",
       "Color b               0.230566  1.000000  0.103742  0.510892     0.142530   \n",
       "Protein               0.461832  0.103742  1.000000  0.192925     0.819334   \n",
       "Ash                   0.304692  0.510892  0.192925  1.000000     0.340132   \n",
       "Wet Glueten           0.517854  0.142530  0.819334  0.340132     1.000000   \n",
       "Peak time             0.436827 -0.072514  0.668109  0.056633     0.692549   \n",
       "Stability             0.303596 -0.184734  0.552198 -0.122567     0.582496   \n",
       "Water absoprtion      0.626705  0.187303  0.736729  0.392230     0.819461   \n",
       "\n",
       "                      Peak time  Stability  Water absoprtion  \n",
       "principal component1   0.797961   0.660550          0.909545  \n",
       "principal component2   0.398793   0.565047          0.010326  \n",
       "Color L               -0.362578  -0.228795         -0.493600  \n",
       "Color a                0.436827   0.303596          0.626705  \n",
       "Color b               -0.072514  -0.184734          0.187303  \n",
       "Protein                0.668109   0.552198          0.736729  \n",
       "Ash                    0.056633  -0.122567          0.392230  \n",
       "Wet Glueten            0.692549   0.582496          0.819461  \n",
       "Peak time              1.000000   0.738198          0.685762  \n",
       "Stability              0.738198   1.000000          0.561187  \n",
       "Water absoprtion       0.685762   0.561187          1.000000  "
      ]
     },
     "execution_count": 25,
     "metadata": {},
     "output_type": "execute_result"
    }
   ],
   "source": [
    "import seaborn as sns\n",
    "\n",
    "cols = data2.columns\n",
    "corr = data2[cols].corr(method='pearson')\n",
    "corr"
   ]
  },
  {
   "cell_type": "code",
   "execution_count": 26,
   "metadata": {
    "scrolled": true
   },
   "outputs": [],
   "source": [
    "corr = corr.iloc[:2,2:]"
   ]
  },
  {
   "cell_type": "code",
   "execution_count": 27,
   "metadata": {},
   "outputs": [],
   "source": [
    "column_names = tmp1.columns\n",
    "column_names1 = ['component 1','component2']"
   ]
  },
  {
   "cell_type": "code",
   "execution_count": 28,
   "metadata": {},
   "outputs": [
    {
     "data": {
      "image/png": "[encoded data removed]",
      "text/plain": [
       "<Figure size 432x288 with 2 Axes>"
      ]
     },
     "metadata": {},
     "output_type": "display_data"
    }
   ],
   "source": [
    "import seaborn as sns\n",
    "import matplotlib.pyplot as plt\n",
    "\n",
    "# 레이블의 폰트 사이즈를 조정\n",
    "sns.set(font_scale=1)\n",
    "hm = sns.heatmap(corr.values, #데이터\n",
    "            cbar=True, #오른쪽 컬러 막대 출력 여부\n",
    "            annot=True, #차트에 숫자를 보여줄 것인지 여부\n",
    "            square=True, #차트를 정사각형으로 할 것인지\n",
    "            fmt='.2f', #숫자의 출력 소수점 자리 개수 조절\n",
    "            annot_kws={'size': 10}, #숫자 출력 시 숫자 크기 조절\n",
    "            yticklabels=column_names1, #y축에 컬럼명 출력\n",
    "            xticklabels=column_names) #x축에 컬럼명 출력\n",
    "\n",
    "plt.tight_layout()\n",
    "plt.show()"
   ]
  },
  {
   "cell_type": "code",
   "execution_count": null,
   "metadata": {},
   "outputs": [],
   "source": [
    "# 의사결정트리, K-최근접 이웃, SVM, 다층 퍼셉트론 신경망"
   ]
  },
  {
   "cell_type": "markdown",
   "metadata": {},
   "source": [
    "# 의사결정트리"
   ]
  },
  {
   "cell_type": "code",
   "execution_count": 258,
   "metadata": {},
   "outputs": [],
   "source": [
    "import numpy as np\n",
    "from sklearn.model_selection import train_test_split\n",
    "from sklearn.linear_model import LogisticRegression\n",
    "from sklearn.metrics import confusion_matrix"
   ]
  },
  {
   "cell_type": "code",
   "execution_count": 259,
   "metadata": {},
   "outputs": [],
   "source": [
    "x_data = data.drop(['Year','Vareity'],axis=1)\n",
    "y_data = data['Vareity']"
   ]
  },
  {
   "cell_type": "code",
   "execution_count": 260,
   "metadata": {},
   "outputs": [],
   "source": [
    "x_train, x_test, y_train, y_test = train_test_split(x_data, y_data,\n",
    "                                                    random_state=42, stratify=y_data)"
   ]
  },
  {
   "cell_type": "code",
   "execution_count": 261,
   "metadata": {},
   "outputs": [],
   "source": [
    "from sklearn.tree import DecisionTreeClassifier\n",
    "\n",
    "tree = DecisionTreeClassifier(max_depth=15,random_state=0)\n",
    "model = tree.fit(x_train, y_train)"
   ]
  },
  {
   "cell_type": "code",
   "execution_count": 262,
   "metadata": {},
   "outputs": [
    {
     "name": "stdout",
     "output_type": "stream",
     "text": [
      "훈련 세트 정확도 :1.000000\n",
      "테스트 세트 정확도 :0.958333\n"
     ]
    }
   ],
   "source": [
    "print('훈련 세트 정확도 :{:03f}'.format(tree.score(x_train,y_train)))\n",
    "print('테스트 세트 정확도 :{:03f}'.format(tree.score(x_test,y_test)))"
   ]
  },
  {
   "cell_type": "code",
   "execution_count": 263,
   "metadata": {
    "scrolled": true
   },
   "outputs": [],
   "source": [
    "y_pred = tree.fit(x_train, y_train)"
   ]
  },
  {
   "cell_type": "code",
   "execution_count": 264,
   "metadata": {},
   "outputs": [],
   "source": [
    "y_predict = y_pred.predict(x_test)"
   ]
  },
  {
   "cell_type": "code",
   "execution_count": 265,
   "metadata": {},
   "outputs": [],
   "source": [
    "from sklearn.metrics import confusion_matrix\n",
    "from pandas import DataFrame"
   ]
  },
  {
   "cell_type": "code",
   "execution_count": 266,
   "metadata": {},
   "outputs": [],
   "source": [
    "cm = confusion_matrix(y_test,y_predict)"
   ]
  },
  {
   "cell_type": "code",
   "execution_count": 267,
   "metadata": {},
   "outputs": [],
   "source": [
    "cm2 = DataFrame(cm, index=['Hard Red Winter','Hard Red Spring','Hard White','Soft White','Soft Red Winter'],\n",
    "               columns = ['Hard Red Winter','Hard Red Spring','Hard White','Soft White','Soft Red Winter'])"
   ]
  },
  {
   "cell_type": "code",
   "execution_count": 268,
   "metadata": {
    "scrolled": false
   },
   "outputs": [
    {
     "data": {
      "text/html": [
       "<div>\n",
       "<style scoped>\n",
       "    .dataframe tbody tr th:only-of-type {\n",
       "        vertical-align: middle;\n",
       "    }\n",
       "\n",
       "    .dataframe tbody tr th {\n",
       "        vertical-align: top;\n",
       "    }\n",
       "\n",
       "    .dataframe thead th {\n",
       "        text-align: right;\n",
       "    }\n",
       "</style>\n",
       "<table border=\"1\" class=\"dataframe\">\n",
       "  <thead>\n",
       "    <tr style=\"text-align: right;\">\n",
       "      <th></th>\n",
       "      <th>Hard Red Winter</th>\n",
       "      <th>Hard Red Spring</th>\n",
       "      <th>Hard White</th>\n",
       "      <th>Soft White</th>\n",
       "      <th>Soft Red Winter</th>\n",
       "    </tr>\n",
       "  </thead>\n",
       "  <tbody>\n",
       "    <tr>\n",
       "      <th>Hard Red Winter</th>\n",
       "      <td>5</td>\n",
       "      <td>0</td>\n",
       "      <td>0</td>\n",
       "      <td>0</td>\n",
       "      <td>0</td>\n",
       "    </tr>\n",
       "    <tr>\n",
       "      <th>Hard Red Spring</th>\n",
       "      <td>0</td>\n",
       "      <td>4</td>\n",
       "      <td>0</td>\n",
       "      <td>0</td>\n",
       "      <td>0</td>\n",
       "    </tr>\n",
       "    <tr>\n",
       "      <th>Hard White</th>\n",
       "      <td>0</td>\n",
       "      <td>0</td>\n",
       "      <td>5</td>\n",
       "      <td>0</td>\n",
       "      <td>0</td>\n",
       "    </tr>\n",
       "    <tr>\n",
       "      <th>Soft White</th>\n",
       "      <td>0</td>\n",
       "      <td>0</td>\n",
       "      <td>0</td>\n",
       "      <td>5</td>\n",
       "      <td>0</td>\n",
       "    </tr>\n",
       "    <tr>\n",
       "      <th>Soft Red Winter</th>\n",
       "      <td>0</td>\n",
       "      <td>0</td>\n",
       "      <td>0</td>\n",
       "      <td>1</td>\n",
       "      <td>4</td>\n",
       "    </tr>\n",
       "  </tbody>\n",
       "</table>\n",
       "</div>"
      ],
      "text/plain": [
       "                 Hard Red Winter  Hard Red Spring  Hard White  Soft White  \\\n",
       "Hard Red Winter                5                0           0           0   \n",
       "Hard Red Spring                0                4           0           0   \n",
       "Hard White                     0                0           5           0   \n",
       "Soft White                     0                0           0           5   \n",
       "Soft Red Winter                0                0           0           1   \n",
       "\n",
       "                 Soft Red Winter  \n",
       "Hard Red Winter                0  \n",
       "Hard Red Spring                0  \n",
       "Hard White                     0  \n",
       "Soft White                     0  \n",
       "Soft Red Winter                4  "
      ]
     },
     "execution_count": 268,
     "metadata": {},
     "output_type": "execute_result"
    }
   ],
   "source": [
    "cm2"
   ]
  },
  {
   "cell_type": "code",
   "execution_count": 269,
   "metadata": {},
   "outputs": [
    {
     "name": "stdout",
     "output_type": "stream",
     "text": [
      "                 precision    recall  f1-score   support\n",
      "\n",
      "Hard Red Spring       1.00      1.00      1.00         5\n",
      "Hard Red Winter       1.00      1.00      1.00         4\n",
      "     Hard White       1.00      1.00      1.00         5\n",
      "Soft Red Winter       0.83      1.00      0.91         5\n",
      "     Soft White       1.00      0.80      0.89         5\n",
      "\n",
      "       accuracy                           0.96        24\n",
      "      macro avg       0.97      0.96      0.96        24\n",
      "   weighted avg       0.97      0.96      0.96        24\n",
      "\n"
     ]
    }
   ],
   "source": [
    "from sklearn.metrics import classification_report\n",
    "print(classification_report(y_test, y_predict))"
   ]
  },
  {
   "cell_type": "code",
   "execution_count": 203,
   "metadata": {},
   "outputs": [
    {
     "data": {
      "text/plain": [
       "<AxesSubplot:title={'center':'Decision tree'}>"
      ]
     },
     "execution_count": 203,
     "metadata": {},
     "output_type": "execute_result"
    },
    {
     "data": {
      "image/png": "[encoded data removed]",
      "text/plain": [
       "<Figure size 504x360 with 2 Axes>"
      ]
     },
     "metadata": {},
     "output_type": "display_data"
    }
   ],
   "source": [
    "plt.figure(figsize = (7,5))\n",
    "plt.title('Decision tree')\n",
    "sns.heatmap(cm2, annot=True,)"
   ]
  },
  {
   "cell_type": "markdown",
   "metadata": {},
   "source": [
    "# K-최근접 이웃"
   ]
  },
  {
   "cell_type": "code",
   "execution_count": 270,
   "metadata": {},
   "outputs": [],
   "source": [
    "# k-최근접 이웃\n",
    "from sklearn.neighbors import KNeighborsClassifier\n",
    "clf = KNeighborsClassifier(n_neighbors =1)"
   ]
  },
  {
   "cell_type": "code",
   "execution_count": 271,
   "metadata": {
    "scrolled": true
   },
   "outputs": [
    {
     "data": {
      "text/plain": [
       "KNeighborsClassifier(n_neighbors=1)"
      ]
     },
     "execution_count": 271,
     "metadata": {},
     "output_type": "execute_result"
    }
   ],
   "source": [
    "clf.fit(x_train, y_train)"
   ]
  },
  {
   "cell_type": "code",
   "execution_count": 272,
   "metadata": {},
   "outputs": [
    {
     "name": "stderr",
     "output_type": "stream",
     "text": [
      "C:\\Users\\whals\\AppData\\Roaming\\Python\\Python38\\site-packages\\sklearn\\base.py:441: UserWarning: X does not have valid feature names, but KNeighborsClassifier was fitted with feature names\n",
      "  warnings.warn(\n"
     ]
    }
   ],
   "source": [
    "y_predict = clf.predict(x_test)"
   ]
  },
  {
   "cell_type": "code",
   "execution_count": 273,
   "metadata": {},
   "outputs": [],
   "source": [
    "cm = confusion_matrix(y_test,y_predict)"
   ]
  },
  {
   "cell_type": "code",
   "execution_count": 274,
   "metadata": {},
   "outputs": [],
   "source": [
    "cm2 = DataFrame(cm, index=['Hard Red Winter','Hard Red Spring','Hard White','Soft White','Soft Red Winter'],\n",
    "               columns = ['Hard Red Winter','Hard Red Spring','Hard White','Soft White','Soft Red Winter'])"
   ]
  },
  {
   "cell_type": "code",
   "execution_count": 275,
   "metadata": {
    "scrolled": false
   },
   "outputs": [
    {
     "name": "stdout",
     "output_type": "stream",
     "text": [
      "훈련 세트 정확도 :1.000000\n",
      "테스트 세트 정확도 :0.875000\n"
     ]
    },
    {
     "name": "stderr",
     "output_type": "stream",
     "text": [
      "C:\\Users\\whals\\AppData\\Roaming\\Python\\Python38\\site-packages\\sklearn\\base.py:441: UserWarning: X does not have valid feature names, but KNeighborsClassifier was fitted with feature names\n",
      "  warnings.warn(\n",
      "C:\\Users\\whals\\AppData\\Roaming\\Python\\Python38\\site-packages\\sklearn\\base.py:441: UserWarning: X does not have valid feature names, but KNeighborsClassifier was fitted with feature names\n",
      "  warnings.warn(\n"
     ]
    }
   ],
   "source": [
    "print('훈련 세트 정확도 :{:03f}'.format(clf.score(x_train,y_train)))\n",
    "print('테스트 세트 정확도 :{:03f}'.format(clf.score(x_test,y_test)))"
   ]
  },
  {
   "cell_type": "code",
   "execution_count": 276,
   "metadata": {},
   "outputs": [
    {
     "name": "stdout",
     "output_type": "stream",
     "text": [
      "                 precision    recall  f1-score   support\n",
      "\n",
      "Hard Red Spring       0.80      0.80      0.80         5\n",
      "Hard Red Winter       1.00      1.00      1.00         4\n",
      "     Hard White       0.80      0.80      0.80         5\n",
      "Soft Red Winter       0.83      1.00      0.91         5\n",
      "     Soft White       1.00      0.80      0.89         5\n",
      "\n",
      "       accuracy                           0.88        24\n",
      "      macro avg       0.89      0.88      0.88        24\n",
      "   weighted avg       0.88      0.88      0.87        24\n",
      "\n"
     ]
    }
   ],
   "source": [
    "from sklearn.metrics import classification_report\n",
    "print(classification_report(y_test, y_predict))"
   ]
  },
  {
   "cell_type": "code",
   "execution_count": 277,
   "metadata": {},
   "outputs": [
    {
     "data": {
      "text/plain": [
       "<AxesSubplot:title={'center':'Decision tree'}>"
      ]
     },
     "execution_count": 277,
     "metadata": {},
     "output_type": "execute_result"
    },
    {
     "data": {
      "image/png": "[encoded data removed]",
      "text/plain": [
       "<Figure size 504x360 with 2 Axes>"
      ]
     },
     "metadata": {},
     "output_type": "display_data"
    }
   ],
   "source": [
    "plt.figure(figsize = (7,5))\n",
    "plt.title('Decision tree')\n",
    "sns.heatmap(cm2, annot=True,)"
   ]
  },
  {
   "cell_type": "markdown",
   "metadata": {},
   "source": [
    "# SVM"
   ]
  },
  {
   "cell_type": "code",
   "execution_count": 278,
   "metadata": {},
   "outputs": [],
   "source": [
    "# SVM\n",
    "from sklearn.svm import SVC"
   ]
  },
  {
   "cell_type": "code",
   "execution_count": 279,
   "metadata": {},
   "outputs": [],
   "source": [
    "svc = SVC(kernel = 'rbf',C=10, gamma=0.1).fit(x_train, y_train)"
   ]
  },
  {
   "cell_type": "code",
   "execution_count": 280,
   "metadata": {},
   "outputs": [],
   "source": [
    "y_predict = svc.predict(x_test)"
   ]
  },
  {
   "cell_type": "code",
   "execution_count": 281,
   "metadata": {},
   "outputs": [],
   "source": [
    "cm = confusion_matrix(y_test,y_predict)"
   ]
  },
  {
   "cell_type": "code",
   "execution_count": 282,
   "metadata": {},
   "outputs": [],
   "source": [
    "cm2 = DataFrame(cm, index=['Hard Red Winter','Hard Red Spring','Hard White','Soft White','Soft Red Winter'],\n",
    "               columns = ['Hard Red Winter','Hard Red Spring','Hard White','Soft White','Soft Red Winter'])"
   ]
  },
  {
   "cell_type": "code",
   "execution_count": 283,
   "metadata": {
    "scrolled": true
   },
   "outputs": [
    {
     "name": "stdout",
     "output_type": "stream",
     "text": [
      "훈련 세트 정확도 :1.000000\n",
      "테스트 세트 정확도 :0.916667\n"
     ]
    }
   ],
   "source": [
    "print('훈련 세트 정확도 :{:03f}'.format(svc.score(x_train,y_train)))\n",
    "print('테스트 세트 정확도 :{:03f}'.format(svc.score(x_test,y_test)))"
   ]
  },
  {
   "cell_type": "code",
   "execution_count": 284,
   "metadata": {},
   "outputs": [
    {
     "name": "stdout",
     "output_type": "stream",
     "text": [
      "                 precision    recall  f1-score   support\n",
      "\n",
      "Hard Red Spring       1.00      0.80      0.89         5\n",
      "Hard Red Winter       1.00      1.00      1.00         4\n",
      "     Hard White       0.83      1.00      0.91         5\n",
      "Soft Red Winter       0.83      1.00      0.91         5\n",
      "     Soft White       1.00      0.80      0.89         5\n",
      "\n",
      "       accuracy                           0.92        24\n",
      "      macro avg       0.93      0.92      0.92        24\n",
      "   weighted avg       0.93      0.92      0.92        24\n",
      "\n"
     ]
    }
   ],
   "source": [
    "from sklearn.metrics import classification_report\n",
    "print(classification_report(y_test, y_predict))"
   ]
  },
  {
   "cell_type": "code",
   "execution_count": 285,
   "metadata": {},
   "outputs": [
    {
     "data": {
      "text/plain": [
       "<AxesSubplot:title={'center':'Decision tree'}>"
      ]
     },
     "execution_count": 285,
     "metadata": {},
     "output_type": "execute_result"
    },
    {
     "data": {
      "image/png": "[encoded data removed]",
      "text/plain": [
       "<Figure size 504x360 with 2 Axes>"
      ]
     },
     "metadata": {},
     "output_type": "display_data"
    }
   ],
   "source": [
    "plt.figure(figsize = (7,5))\n",
    "plt.title('Decision tree')\n",
    "sns.heatmap(cm2, annot=True,)"
   ]
  },
  {
   "cell_type": "markdown",
   "metadata": {},
   "source": [
    "# 다층 퍼셉트론 신경망"
   ]
  },
  {
   "cell_type": "code",
   "execution_count": 286,
   "metadata": {},
   "outputs": [],
   "source": [
    "from sklearn.neural_network import MLPClassifier"
   ]
  },
  {
   "cell_type": "code",
   "execution_count": 287,
   "metadata": {},
   "outputs": [],
   "source": [
    "mlp = MLPClassifier(solver='lbfgs', random_state=42,\n",
    "                   hidden_layer_sizes=[10,10], max_iter=5000)"
   ]
  },
  {
   "cell_type": "code",
   "execution_count": 288,
   "metadata": {},
   "outputs": [
    {
     "data": {
      "text/plain": [
       "MLPClassifier(hidden_layer_sizes=[10, 10], max_iter=5000, random_state=42,\n",
       "              solver='lbfgs')"
      ]
     },
     "execution_count": 288,
     "metadata": {},
     "output_type": "execute_result"
    }
   ],
   "source": [
    "mlp.fit(x_train, y_train)"
   ]
  },
  {
   "cell_type": "code",
   "execution_count": 289,
   "metadata": {},
   "outputs": [
    {
     "name": "stdout",
     "output_type": "stream",
     "text": [
      "훈련 세트 정확도 :0.816901\n",
      "테스트 세트 정확도 :0.791667\n"
     ]
    }
   ],
   "source": [
    "print('훈련 세트 정확도 :{:03f}'.format(mlp.score(x_train,y_train)))\n",
    "print('테스트 세트 정확도 :{:03f}'.format(mlp.score(x_test,y_test)))"
   ]
  },
  {
   "cell_type": "code",
   "execution_count": 290,
   "metadata": {},
   "outputs": [],
   "source": [
    "y_predict = mlp.predict(x_test)"
   ]
  },
  {
   "cell_type": "code",
   "execution_count": 291,
   "metadata": {},
   "outputs": [],
   "source": [
    "cm = confusion_matrix(y_test,y_predict)"
   ]
  },
  {
   "cell_type": "code",
   "execution_count": 292,
   "metadata": {},
   "outputs": [],
   "source": [
    "cm2 = DataFrame(cm, index=['Hard Red Winter','Hard Red Spring','Hard White','Soft White','Soft Red Winter'],\n",
    "               columns = ['Hard Red Winter','Hard Red Spring','Hard White','Soft White','Soft Red Winter'])"
   ]
  },
  {
   "cell_type": "code",
   "execution_count": 293,
   "metadata": {},
   "outputs": [],
   "source": [
    "mean_on_train = x_train.mean(axis=0)\n",
    "std_on_train = x_train.std(axis=0)"
   ]
  },
  {
   "cell_type": "code",
   "execution_count": 294,
   "metadata": {},
   "outputs": [],
   "source": [
    "X_train_scaled = (x_train - mean_on_train) / std_on_train\n",
    "X_test_scaled = (x_test - mean_on_train) / std_on_train"
   ]
  },
  {
   "cell_type": "code",
   "execution_count": 295,
   "metadata": {},
   "outputs": [],
   "source": [
    "mlp = MLPClassifier(solver='lbfgs', random_state=42,\n",
    "                   hidden_layer_sizes=[10,10], max_iter=1000)"
   ]
  },
  {
   "cell_type": "code",
   "execution_count": 296,
   "metadata": {},
   "outputs": [
    {
     "data": {
      "text/plain": [
       "MLPClassifier(hidden_layer_sizes=[10, 10], max_iter=1000, random_state=42,\n",
       "              solver='lbfgs')"
      ]
     },
     "execution_count": 296,
     "metadata": {},
     "output_type": "execute_result"
    }
   ],
   "source": [
    "mlp.fit(X_train_scaled, y_train)"
   ]
  },
  {
   "cell_type": "code",
   "execution_count": 297,
   "metadata": {},
   "outputs": [
    {
     "name": "stdout",
     "output_type": "stream",
     "text": [
      "훈련 세트 정확도 :1.000000\n",
      "테스트 세트 정확도 :0.958333\n"
     ]
    }
   ],
   "source": [
    "print('훈련 세트 정확도 :{:03f}'.format(mlp.score(X_train_scaled,y_train)))\n",
    "print('테스트 세트 정확도 :{:03f}'.format(mlp.score(X_test_scaled,y_test)))"
   ]
  },
  {
   "cell_type": "code",
   "execution_count": 298,
   "metadata": {},
   "outputs": [],
   "source": [
    "y_predict = mlp.predict(X_test_scaled)\n",
    "cm = confusion_matrix(y_test,y_predict)"
   ]
  },
  {
   "cell_type": "code",
   "execution_count": 299,
   "metadata": {},
   "outputs": [],
   "source": [
    "cm2 = DataFrame(cm, index=['Hard Red Winter','Hard Red Spring','Hard White','Soft White','Soft Red Winter'],\n",
    "               columns = ['Hard Red Winter','Hard Red Spring','Hard White','Soft White','Soft Red Winter'])"
   ]
  },
  {
   "cell_type": "code",
   "execution_count": 300,
   "metadata": {},
   "outputs": [
    {
     "name": "stdout",
     "output_type": "stream",
     "text": [
      "                 precision    recall  f1-score   support\n",
      "\n",
      "Hard Red Spring       1.00      1.00      1.00         5\n",
      "Hard Red Winter       1.00      1.00      1.00         4\n",
      "     Hard White       1.00      1.00      1.00         5\n",
      "Soft Red Winter       0.83      1.00      0.91         5\n",
      "     Soft White       1.00      0.80      0.89         5\n",
      "\n",
      "       accuracy                           0.96        24\n",
      "      macro avg       0.97      0.96      0.96        24\n",
      "   weighted avg       0.97      0.96      0.96        24\n",
      "\n"
     ]
    }
   ],
   "source": [
    "from sklearn.metrics import classification_report\n",
    "print(classification_report(y_test, y_predict))"
   ]
  },
  {
   "cell_type": "code",
   "execution_count": 301,
   "metadata": {},
   "outputs": [
    {
     "data": {
      "text/plain": [
       "<AxesSubplot:title={'center':'Decision tree'}>"
      ]
     },
     "execution_count": 301,
     "metadata": {},
     "output_type": "execute_result"
    },
    {
     "data": {
      "image/png": "[encoded data removed]",
      "text/plain": [
       "<Figure size 504x360 with 2 Axes>"
      ]
     },
     "metadata": {},
     "output_type": "display_data"
    }
   ],
   "source": [
    "plt.figure(figsize = (7,5))\n",
    "plt.title('Decision tree')\n",
    "sns.heatmap(cm2, annot=True,)"
   ]
  },
  {
   "cell_type": "code",
   "execution_count": null,
   "metadata": {},
   "outputs": [],
   "source": []
  }
 ],
 "metadata": {
  "kernelspec": {
   "display_name": "Python 3",
   "language": "python",
   "name": "python3"
  },
  "language_info": {
   "codemirror_mode": {
    "name": "ipython",
    "version": 3
   },
   "file_extension": ".py",
   "mimetype": "text/x-python",
   "name": "python",
   "nbconvert_exporter": "python",
   "pygments_lexer": "ipython3",
   "version": "3.8.5"
  }
 },
 "nbformat": 4,
 "nbformat_minor": 4
}
