{
  "nbformat": 4,
  "nbformat_minor": 0,
  "metadata": {
    "colab": {
      "provenance": []
    },
    "kernelspec": {
      "name": "python3",
      "display_name": "Python 3"
    },
    "language_info": {
      "name": "python"
    }
  },
  "cells": [
    {
      "cell_type": "markdown",
      "source": [
        "# Beautiful Soup\n",
        "- 지난 시간에 HTML 기본 태그 요소들과 Beautiful Soup이라는 파이썬 라이브러리를 간단히 맛보기만 하고 넘어갔는데요.\n",
        "- 마지막 시간에 빠진 친구들도 있고 해서 뷰티풀 솝 라이브러리 부분만 다시 한 번 간략히 살펴보고 넘어가도록 할게요.\n",
        "- 모든 웹페이지는 기본적으로 HTML 문서를 토대로 구성되어 있고, 이 문서들은 인터넷 통신을 통해서 전달되어 우리가 사용하는 브라우저가 해석해 우리에게 화면상에 보여주는 것이라고 했었죠.\n",
        "- 기본적으로 크롤링, 스크래핑의 개념은 HTML 문서를 읽고 우리에게 필요한 데이터가 어디에 위치해 있는지를 지정해서 그 부분의 데이터를 자동으로 반복해 긁어 수집하는 과정에서 시작된다고 했습니다.\n",
        "- 뷰티풀 솝은 파이썬에서 이러한 html 문서를 텍스트화하고 태그들을 쉽게 찾아내 우리에게 제공해주는 기능들을 갖고 있는 라이브러리라고 할 수 있습니다."
      ],
      "metadata": {
        "id": "Uyk-neLF82xD"
      }
    },
    {
      "cell_type": "code",
      "source": [
        "!pip install bs4"
      ],
      "metadata": {
        "colab": {
          "base_uri": "https://localhost:8080/"
        },
        "id": "_bHGpdbbnkI_",
        "outputId": "c4466aa4-d074-421c-bc66-585e9f2187cf"
      },
      "execution_count": null,
      "outputs": [
        {
          "output_type": "stream",
          "name": "stdout",
          "text": [
            "Looking in indexes: https://pypi.org/simple, https://us-python.pkg.dev/colab-wheels/public/simple/\n",
            "Collecting bs4\n",
            "  Downloading bs4-0.0.1.tar.gz (1.1 kB)\n",
            "  Preparing metadata (setup.py) ... \u001b[?25l\u001b[?25hdone\n",
            "Requirement already satisfied: beautifulsoup4 in /usr/local/lib/python3.10/dist-packages (from bs4) (4.11.2)\n",
            "Requirement already satisfied: soupsieve>1.2 in /usr/local/lib/python3.10/dist-packages (from beautifulsoup4->bs4) (2.4.1)\n",
            "Building wheels for collected packages: bs4\n",
            "  Building wheel for bs4 (setup.py) ... \u001b[?25l\u001b[?25hdone\n",
            "  Created wheel for bs4: filename=bs4-0.0.1-py3-none-any.whl size=1257 sha256=1dc1af23ba425ce8c8a4bd987de419cdaca50b229f2938038f32b8af0dd0c331\n",
            "  Stored in directory: /root/.cache/pip/wheels/25/42/45/b773edc52acb16cd2db4cf1a0b47117e2f69bb4eb300ed0e70\n",
            "Successfully built bs4\n",
            "Installing collected packages: bs4\n",
            "Successfully installed bs4-0.0.1\n"
          ]
        }
      ]
    },
    {
      "cell_type": "code",
      "source": [
        "from bs4 import BeautifulSoup\n",
        "import pandas as pd"
      ],
      "metadata": {
        "id": "DfRKMxEUBYkw"
      },
      "execution_count": null,
      "outputs": []
    },
    {
      "cell_type": "code",
      "execution_count": null,
      "metadata": {
        "id": "VH5zgI_R8vQ-"
      },
      "outputs": [],
      "source": [
        "# 예제 HTML 입력\n",
        "ex1 = '''\n",
        "<html>\n",
        "  <head>\n",
        "    <title> HTML 예제 </title>\n",
        "  </head>\n",
        "  <body>\n",
        "    <p align=\"center\"> <b> text1 </b> <br> text22 </p>\n",
        "    <p align=\"right\"> text2 </p>\n",
        "    <p align=\"left\"> test3 </p>\n",
        "    <img src=\"c:\\\\temp\\\\image\\\\무제.png\">\n",
        "  </body>\n",
        "</html> '''"
      ]
    },
    {
      "cell_type": "code",
      "source": [
        "# HTML 태그를 Beautiful Soup에 넘겨 파싱(분석)한 후, 그 결과를 soup이라는 변수에 저장\n",
        "soup = BeautifulSoup(ex1, 'html.parser')"
      ],
      "metadata": {
        "id": "jzP4ets_EghK"
      },
      "execution_count": null,
      "outputs": []
    },
    {
      "cell_type": "markdown",
      "source": [
        "- find(): 조건을 만족하는 태그 하나만 가져오는 함수"
      ],
      "metadata": {
        "id": "rsxvhd6CEYW-"
      }
    },
    {
      "cell_type": "code",
      "source": [
        "# title 태그를 찾아보자\n",
        "soup.find('title')"
      ],
      "metadata": {
        "colab": {
          "base_uri": "https://localhost:8080/"
        },
        "id": "LXADCVhyBXQ-",
        "outputId": "f49f748b-67fd-46e3-ac6a-02c988997dd1"
      },
      "execution_count": null,
      "outputs": [
        {
          "output_type": "execute_result",
          "data": {
            "text/plain": [
              "<title> HTML 예제 </title>"
            ]
          },
          "metadata": {},
          "execution_count": 5
        }
      ]
    },
    {
      "cell_type": "code",
      "source": [
        "# p 태그를 찾아보자\n",
        "soup.find('p')"
      ],
      "metadata": {
        "colab": {
          "base_uri": "https://localhost:8080/"
        },
        "id": "P7oOgUhsBjQO",
        "outputId": "6089105d-eab4-4eb5-beab-2d02956884cf"
      },
      "execution_count": null,
      "outputs": [
        {
          "output_type": "execute_result",
          "data": {
            "text/plain": [
              "<p align=\"center\"> text1 </p>"
            ]
          },
          "metadata": {},
          "execution_count": 6
        }
      ]
    },
    {
      "cell_type": "code",
      "source": [
        "# 특정 속성값을 지닌 p 태그를 찾아보자\n",
        "soup.find('p', align='center')"
      ],
      "metadata": {
        "colab": {
          "base_uri": "https://localhost:8080/"
        },
        "id": "XHeG_sNrB5DP",
        "outputId": "dc92a7b1-de5e-474e-855f-3ded3d0bb9af"
      },
      "execution_count": null,
      "outputs": [
        {
          "output_type": "execute_result",
          "data": {
            "text/plain": [
              "<p align=\"center\"> text1 </p>"
            ]
          },
          "metadata": {},
          "execution_count": 10
        }
      ]
    },
    {
      "cell_type": "code",
      "source": [
        "soup.find('p', align='right')"
      ],
      "metadata": {
        "colab": {
          "base_uri": "https://localhost:8080/"
        },
        "id": "VX7YGY-ZFB1b",
        "outputId": "f7fe71b6-5cd2-40ab-8bc0-3f778090372d"
      },
      "execution_count": null,
      "outputs": [
        {
          "output_type": "execute_result",
          "data": {
            "text/plain": [
              "<p align=\"right\"> text2 </p>"
            ]
          },
          "metadata": {},
          "execution_count": 8
        }
      ]
    },
    {
      "cell_type": "code",
      "source": [
        "soup.find('p', align='left')"
      ],
      "metadata": {
        "colab": {
          "base_uri": "https://localhost:8080/"
        },
        "id": "_Zr3LlqQFW5y",
        "outputId": "17285b87-1d7b-4bde-8e96-8bc8f1606ded"
      },
      "execution_count": null,
      "outputs": [
        {
          "output_type": "execute_result",
          "data": {
            "text/plain": [
              "<p align=\"left\"> test3 </p>"
            ]
          },
          "metadata": {},
          "execution_count": 9
        }
      ]
    },
    {
      "cell_type": "markdown",
      "source": [
        "- find_all(): 해당하는 태그가 여러 개 있을 경우 한꺼번에 가져오는 함수"
      ],
      "metadata": {
        "id": "whz8T6TKF7rA"
      }
    },
    {
      "cell_type": "code",
      "source": [
        "soup.find_all('p')"
      ],
      "metadata": {
        "colab": {
          "base_uri": "https://localhost:8080/"
        },
        "id": "mt7ZKbNTFZxk",
        "outputId": "a0775e5b-4eab-4150-fc3c-ff8b2b25569a"
      },
      "execution_count": null,
      "outputs": [
        {
          "output_type": "execute_result",
          "data": {
            "text/plain": [
              "[<p align=\"center\"> text1 </p>,\n",
              " <p align=\"right\"> text2 </p>,\n",
              " <p align=\"left\"> test3 </p>]"
            ]
          },
          "metadata": {},
          "execution_count": 11
        }
      ]
    },
    {
      "cell_type": "code",
      "source": [
        "soup.find_all(['p', 'img'])"
      ],
      "metadata": {
        "colab": {
          "base_uri": "https://localhost:8080/"
        },
        "id": "OYcEGXxoGDNE",
        "outputId": "4a3a0e6a-9367-4ef0-ff4e-f15affe52a9f"
      },
      "execution_count": null,
      "outputs": [
        {
          "output_type": "execute_result",
          "data": {
            "text/plain": [
              "[<p align=\"center\"> text1 </p>,\n",
              " <p align=\"right\"> text2 </p>,\n",
              " <p align=\"left\"> test3 </p>,\n",
              " <img src=\"c:\\temp\\image\\무제.png\"/>]"
            ]
          },
          "metadata": {},
          "execution_count": 12
        }
      ]
    },
    {
      "cell_type": "markdown",
      "source": [
        "- 문장 가져오기"
      ],
      "metadata": {
        "id": "L27gXmkLGSSq"
      }
    },
    {
      "cell_type": "code",
      "source": [
        "txt = soup.find('p')\n",
        "txt.string"
      ],
      "metadata": {
        "id": "_7-U4LnGGOwd"
      },
      "execution_count": null,
      "outputs": []
    },
    {
      "cell_type": "code",
      "source": [
        "txt2 = soup.find_all('p')\n",
        "for i in txt2:\n",
        "  print(i.string)"
      ],
      "metadata": {
        "colab": {
          "base_uri": "https://localhost:8080/"
        },
        "id": "wVlGcIlAGXpK",
        "outputId": "001cd08d-520b-42e2-f06b-72fd2f80ea8c"
      },
      "execution_count": null,
      "outputs": [
        {
          "output_type": "stream",
          "name": "stdout",
          "text": [
            "None\n",
            " text2 \n",
            " test3 \n"
          ]
        }
      ]
    },
    {
      "cell_type": "code",
      "source": [
        "txt = soup.find('p')\n",
        "txt.get_text()"
      ],
      "metadata": {
        "colab": {
          "base_uri": "https://localhost:8080/",
          "height": 36
        },
        "id": "_IQapy7jIjSo",
        "outputId": "0f8678d2-d9ed-4f7d-b6b0-61a911294fac"
      },
      "execution_count": null,
      "outputs": [
        {
          "output_type": "execute_result",
          "data": {
            "text/plain": [
              "'  text1   text22 '"
            ],
            "application/vnd.google.colaboratory.intrinsic+json": {
              "type": "string"
            }
          },
          "metadata": {},
          "execution_count": 20
        }
      ]
    },
    {
      "cell_type": "code",
      "source": [
        "txt3 = soup.find_all('p')\n",
        "for i in txt3:\n",
        "  print(i.get_text())"
      ],
      "metadata": {
        "colab": {
          "base_uri": "https://localhost:8080/"
        },
        "id": "DrW5kcMLGpfQ",
        "outputId": "05993233-fd80-4634-f3ce-d6f19b33b40b"
      },
      "execution_count": null,
      "outputs": [
        {
          "output_type": "stream",
          "name": "stdout",
          "text": [
            "  text1   text22 \n",
            " text2 \n",
            " test3 \n"
          ]
        }
      ]
    },
    {
      "cell_type": "markdown",
      "source": [
        "### ex2"
      ],
      "metadata": {
        "id": "5IEeAELBLzwm"
      }
    },
    {
      "cell_type": "code",
      "source": [
        "ex2 = '''\n",
        "<html>\n",
        "  <head>\n",
        "    <h1> 사야할 과일\n",
        "  </head>\n",
        "  <body>\n",
        "      <h1> 시장가서 사야할 과일 목록\n",
        "      <div>\n",
        "        <p id='fruits1' class='name1' title='바나나'> 바나나\n",
        "          <span class='price'> 3000원 </span>\n",
        "          <span class='count'> 10개 </span>\n",
        "          <span class='store'> 바나나 가게 </span>\n",
        "          <a href='https://www.banana.com'> banana.com </a>\n",
        "        </p>\n",
        "      </div>\n",
        "      <div>\n",
        "        <p id='fruits2' class='name2' title='체리'> 체리\n",
        "          <span class='price'> 100원 </span>\n",
        "          <span class='count'> 50개 </span>\n",
        "          <span class='store'> 체리 가게 </span>\n",
        "          <a href='https://www.cherry.com'> cherry.com </a>\n",
        "        </p>\n",
        "      </div>\n",
        "      <div>\n",
        "        <p id='fruits3' class='name3' title='오렌지'> 오렌지\n",
        "          <span class='price'> 500원 </span>\n",
        "          <span class='count'> 20개 </span>\n",
        "          <span class='store'> 오렌지 가게 </span>\n",
        "          <a href='https://www.orange.com'> orange.com </a>\n",
        "        </p>\n",
        "      </div>\n",
        "  </body>\n",
        "</html>'''"
      ],
      "metadata": {
        "id": "KDzWr-XVIak2"
      },
      "execution_count": null,
      "outputs": []
    },
    {
      "cell_type": "code",
      "source": [
        "# HTML 태그를 Beautiful Soup에 넘겨 파싱(분석)한 후, 그 결과를 soup2라는 변수에 저장\n",
        "soup2 = BeautifulSoup(ex2, 'html.parser')"
      ],
      "metadata": {
        "id": "8hG4OOSoMIvG"
      },
      "execution_count": null,
      "outputs": []
    },
    {
      "cell_type": "markdown",
      "source": [
        "- select(): 다양한 속성에 맞는 태그를 찾아오는 함수\n",
        "- select('태그이름')"
      ],
      "metadata": {
        "id": "lnLbaBQhMFs8"
      }
    },
    {
      "cell_type": "code",
      "source": [
        "soup2.select('p')"
      ],
      "metadata": {
        "colab": {
          "base_uri": "https://localhost:8080/"
        },
        "id": "-boqs91WL3ml",
        "outputId": "83952dd1-10da-493c-8697-80a31e95f871"
      },
      "execution_count": null,
      "outputs": [
        {
          "output_type": "execute_result",
          "data": {
            "text/plain": [
              "[<p class=\"name1\" id=\"fruits1\" title=\"바나나\"> 바나나\n",
              "           <span class=\"price\"> 3000원 </span>\n",
              " <span class=\"count\"> 10개 </span>\n",
              " <span class=\"store\"> 바나나 가게 </span>\n",
              " <a href=\"https://www.banana.com\"> banana.com </a>\n",
              " </p>,\n",
              " <p class=\"name2\" id=\"fruits2\" title=\"체리\"> 체리\n",
              "           <span class=\"price\"> 100원 </span>\n",
              " <span class=\"count\"> 50개 </span>\n",
              " <span class=\"store\"> 체리 가게 </span>\n",
              " <a href=\"https://www.cherry.com\"> cherry.com </a>\n",
              " </p>,\n",
              " <p class=\"name3\" id=\"fruits3\" title=\"오렌지\"> 오렌지\n",
              "           <span class=\"price\"> 500원 </span>\n",
              " <span class=\"count\"> 20개 </span>\n",
              " <span class=\"store\"> 오렌지 가게 </span>\n",
              " <a href=\"https://www.orange.com\"> orange.com </a>\n",
              " </p>]"
            ]
          },
          "metadata": {},
          "execution_count": 5
        }
      ]
    },
    {
      "cell_type": "markdown",
      "source": [
        "- select('.클래스명')"
      ],
      "metadata": {
        "id": "RumayA4wMZ2e"
      }
    },
    {
      "cell_type": "code",
      "source": [
        "soup2.select('.name3')"
      ],
      "metadata": {
        "colab": {
          "base_uri": "https://localhost:8080/"
        },
        "id": "Kd67eiaQMOfU",
        "outputId": "7355c82a-7d09-4058-f7de-765c1789fee9"
      },
      "execution_count": null,
      "outputs": [
        {
          "output_type": "execute_result",
          "data": {
            "text/plain": [
              "[<p class=\"name3\" id=\"fruits3\" title=\"오렌지\"> 오렌지\n",
              "           <span class=\"price\"> 500원 </span>\n",
              " <span class=\"count\"> 20개 </span>\n",
              " <span class=\"store\"> 오렌지 가게 </span>\n",
              " <a href=\"https://www.orange.com\"> orange.com </a>\n",
              " </p>]"
            ]
          },
          "metadata": {},
          "execution_count": 6
        }
      ]
    },
    {
      "cell_type": "markdown",
      "source": [
        "- select('상위태그 > 하위태그 > 하위태그')"
      ],
      "metadata": {
        "id": "byKGOH5zMj82"
      }
    },
    {
      "cell_type": "code",
      "source": [
        "soup2.select('div > p > span')"
      ],
      "metadata": {
        "colab": {
          "base_uri": "https://localhost:8080/"
        },
        "id": "rjKuy0WpMRgR",
        "outputId": "7b33960c-8f15-460e-bddc-298705519ade"
      },
      "execution_count": null,
      "outputs": [
        {
          "output_type": "execute_result",
          "data": {
            "text/plain": [
              "[<span class=\"price\"> 3000원 </span>,\n",
              " <span class=\"count\"> 10개 </span>,\n",
              " <span class=\"store\"> 바나나 가게 </span>,\n",
              " <span class=\"price\"> 100원 </span>,\n",
              " <span class=\"count\"> 50개 </span>,\n",
              " <span class=\"store\"> 체리 가게 </span>,\n",
              " <span class=\"price\"> 500원 </span>,\n",
              " <span class=\"count\"> 20개 </span>,\n",
              " <span class=\"store\"> 오렌지 가게 </span>]"
            ]
          },
          "metadata": {},
          "execution_count": 7
        }
      ]
    },
    {
      "cell_type": "code",
      "source": [
        "soup2.select('div > p > span')[0]"
      ],
      "metadata": {
        "colab": {
          "base_uri": "https://localhost:8080/"
        },
        "id": "hAgftCARMjNM",
        "outputId": "d2891038-b132-4f8d-ba12-d52771db81ea"
      },
      "execution_count": null,
      "outputs": [
        {
          "output_type": "execute_result",
          "data": {
            "text/plain": [
              "<span class=\"price\"> 3000원 </span>"
            ]
          },
          "metadata": {},
          "execution_count": 8
        }
      ]
    },
    {
      "cell_type": "markdown",
      "source": [
        "- select('상위태그.클래스이름 > 하위태그.클래스이름')"
      ],
      "metadata": {
        "id": "FzQ41P5cM6oY"
      }
    },
    {
      "cell_type": "code",
      "source": [
        "soup2.select('p.name2 > span.count')"
      ],
      "metadata": {
        "colab": {
          "base_uri": "https://localhost:8080/"
        },
        "id": "9dw8GvtcMu0F",
        "outputId": "bf3ec2b3-f203-4fcb-f454-c6c56bdcb004"
      },
      "execution_count": null,
      "outputs": [
        {
          "output_type": "execute_result",
          "data": {
            "text/plain": [
              "[<span class=\"count\"> 50개 </span>]"
            ]
          },
          "metadata": {},
          "execution_count": 10
        }
      ]
    },
    {
      "cell_type": "markdown",
      "source": [
        "- select('#아이디명')"
      ],
      "metadata": {
        "id": "3r1gdEslNEE8"
      }
    },
    {
      "cell_type": "code",
      "source": [
        "soup2.select('#fruits1')"
      ],
      "metadata": {
        "colab": {
          "base_uri": "https://localhost:8080/"
        },
        "id": "UDm1ZCu5M1f6",
        "outputId": "c6298fe4-b9a9-4197-ecdc-7d67fb65a323"
      },
      "execution_count": null,
      "outputs": [
        {
          "output_type": "execute_result",
          "data": {
            "text/plain": [
              "[<p class=\"name1\" id=\"fruits1\" title=\"바나나\"> 바나나\n",
              "           <span class=\"price\"> 3000원 </span>\n",
              " <span class=\"count\"> 10개 </span>\n",
              " <span class=\"store\"> 바나나 가게 </span>\n",
              " <a href=\"https://www.banana.com\"> banana.com </a>\n",
              " </p>]"
            ]
          },
          "metadata": {},
          "execution_count": 22
        }
      ]
    },
    {
      "cell_type": "markdown",
      "source": [
        "- select('#아이디명 > 태그명.클래스명')"
      ],
      "metadata": {
        "id": "RJqbB1wwNmzB"
      }
    },
    {
      "cell_type": "code",
      "source": [
        "soup2.select('#fruits1 > span.count')"
      ],
      "metadata": {
        "colab": {
          "base_uri": "https://localhost:8080/"
        },
        "id": "ZiJ4KLxeNXxP",
        "outputId": "991039a3-99cc-4fc8-e0b6-18758f8aa872"
      },
      "execution_count": null,
      "outputs": [
        {
          "output_type": "execute_result",
          "data": {
            "text/plain": [
              "[<span class=\"count\"> 10개 </span>]"
            ]
          },
          "metadata": {},
          "execution_count": 11
        }
      ]
    },
    {
      "cell_type": "markdown",
      "source": [
        "- soup.select('태그명[속성1=값1]')"
      ],
      "metadata": {
        "id": "gDZ9MGV8NuLl"
      }
    },
    {
      "cell_type": "code",
      "source": [
        "soup2.select('a[href]')"
      ],
      "metadata": {
        "colab": {
          "base_uri": "https://localhost:8080/"
        },
        "id": "NLFd1OgwNifn",
        "outputId": "63024fee-72c9-46bb-afb8-454dcf3ceee9"
      },
      "execution_count": null,
      "outputs": [
        {
          "output_type": "execute_result",
          "data": {
            "text/plain": [
              "[<a href=\"https://www.banana.com\"> banana.com </a>,\n",
              " <a href=\"https://www.cherry.com\"> cherry.com </a>,\n",
              " <a href=\"https://www.orange.com\"> orange.com </a>]"
            ]
          },
          "metadata": {},
          "execution_count": 24
        }
      ]
    },
    {
      "cell_type": "code",
      "source": [
        "soup2.select('a[href]')[0]"
      ],
      "metadata": {
        "colab": {
          "base_uri": "https://localhost:8080/"
        },
        "id": "DWZOgQVRNkY_",
        "outputId": "ada2e8b4-9247-4faa-e891-3acc67385e66"
      },
      "execution_count": null,
      "outputs": [
        {
          "output_type": "execute_result",
          "data": {
            "text/plain": [
              "<a href=\"https://www.banana.com\"> banana.com </a>"
            ]
          },
          "metadata": {},
          "execution_count": 25
        }
      ]
    },
    {
      "cell_type": "markdown",
      "source": [
        "### 연습\n",
        "- 한국정보인재개발원에서 제공하는 연습코드"
      ],
      "metadata": {
        "id": "x_YpeNzTQg4b"
      }
    },
    {
      "cell_type": "code",
      "source": [
        "with open(\"/content/bs_test.html\", encoding=\"ISO-8859-1\") as test:\n",
        "    soup = BeautifulSoup(test, 'html.parser')"
      ],
      "metadata": {
        "id": "iA9wVZnrN2mg"
      },
      "execution_count": null,
      "outputs": []
    },
    {
      "cell_type": "markdown",
      "source": [
        "## 1. soup 변수에서 img 태그만 모두 추출하기"
      ],
      "metadata": {
        "id": "tOMTBZZrQ6cR"
      }
    },
    {
      "cell_type": "code",
      "source": [
        "img = soup.find('div', 'flex_grid credits search_results').find_all('img')\n",
        "print(len(img))"
      ],
      "metadata": {
        "colab": {
          "base_uri": "https://localhost:8080/"
        },
        "id": "8y2JLjpIQ386",
        "outputId": "94990d00-9f74-4a8f-c165-dd80659d7ed8"
      },
      "execution_count": null,
      "outputs": [
        {
          "output_type": "stream",
          "name": "stdout",
          "text": [
            "100\n"
          ]
        }
      ]
    },
    {
      "cell_type": "markdown",
      "source": [
        "```\n",
        "for i in img:\n",
        "  img_url = i['src']\n",
        "  print(img_url)\n",
        "```"
      ],
      "metadata": {
        "id": "zkOIGSIp2FvX"
      }
    },
    {
      "cell_type": "markdown",
      "source": [
        "- https://cdn.pixabay.com/photo/2017/02/20/18/03/cat-2083492__340.jpg\n",
        "- https://cdn.pixabay.com/photo/2016/03/28/12/35/cat-1285634__340.png\n",
        "- https://cdn.pixabay.com/photo/2014/04/13/20/49/cat-323262__340.jpg\n",
        "- https://cdn.pixabay.com/photo/2013/05/30/18/21/tabby-114782__340.jpg\n",
        "- https://cdn.pixabay.com/photo/2017/11/14/13/06/kitty-2948404__340.jpg\n",
        "- https://cdn.pixabay.com/photo/2018/07/31/22/08/lion-3576045__340.jpg\n",
        "- https://cdn.pixabay.com/photo/2017/07/24/19/57/tiger-2535888__340.jpg\n",
        "- https://cdn.pixabay.com/photo/2018/01/25/14/12/nature-3106213__340.jpg\n",
        "- https://cdn.pixabay.com/photo/2016/06/14/00/14/cat-1455468__340.jpg"
      ],
      "metadata": {
        "id": "8nRbDG320pCb"
      }
    },
    {
      "cell_type": "markdown",
      "source": [
        "## 2. 2017년과 2018년에 업로드된 자료만 찾기\n"
      ],
      "metadata": {
        "id": "OIr-ay1xeajO"
      }
    },
    {
      "cell_type": "markdown",
      "source": [
        "- 리스트명.append('요소') : 리스트 요소 추가\n",
        "- 조건문 - if 문\n",
        "```\n",
        "if 참 또는 거짓을 가지는 값:\n",
        "    조건이 참일 때 실행되는 명령들\n",
        "elif 참 또는 거짓을 가지는 값:\n",
        "    조건이 참일 때 실행되는 명령들\n",
        "else:\n",
        "    상기한 조건들이 모두 거짓일 때 실행되는 명령들\n",
        "```\n",
        "```\n",
        "if a in x:\n",
        "    print('x 리스트 안에 a가 있다')\n",
        "elif b in x:\n",
        "    print('x 리스트 안에 b가 있다')\n",
        "```\n"
      ],
      "metadata": {
        "id": "wDZaduzjyV1p"
      }
    },
    {
      "cell_type": "code",
      "source": [
        "img_src_2017 = []\n",
        "img_src_2018 = []\n",
        "\n",
        "for i in img :\n",
        "    img_url = i['src']\n",
        "\n",
        "    if '2017' in img_url:\n",
        "      img_src_2017.append(img_url)\n",
        "    elif '2018' in img_url:\n",
        "      img_src_2018.append(img_url)"
      ],
      "metadata": {
        "id": "0IZfc3iIS0MX"
      },
      "execution_count": null,
      "outputs": []
    },
    {
      "cell_type": "code",
      "source": [
        "img_src_2018"
      ],
      "metadata": {
        "colab": {
          "base_uri": "https://localhost:8080/"
        },
        "id": "uUuclBpxFUPR",
        "outputId": "6fbe5a75-8926-4394-fb92-b09691ba2c8d"
      },
      "execution_count": null,
      "outputs": [
        {
          "output_type": "execute_result",
          "data": {
            "text/plain": [
              "['https://cdn.pixabay.com/photo/2018/07/31/22/08/lion-3576045__340.jpg',\n",
              " 'https://cdn.pixabay.com/photo/2018/03/26/20/49/tiger-3264048__340.jpg',\n",
              " 'https://cdn.pixabay.com/photo/2018/01/25/14/12/nature-3106213__340.jpg',\n",
              " 'https://cdn.pixabay.com/photo/2018/01/28/12/37/cat-3113513__340.jpg',\n",
              " 'https://cdn.pixabay.com/photo/2018/05/04/16/50/cat-3374422__340.jpg',\n",
              " 'https://cdn.pixabay.com/photo/2018/04/13/21/24/lion-3317670__340.jpg',\n",
              " 'https://cdn.pixabay.com/photo/2018/07/08/14/16/cat-3523992__340.jpg',\n",
              " 'https://cdn.pixabay.com/photo/2018/01/04/18/58/cats-3061372__340.jpg',\n",
              " 'https://cdn.pixabay.com/photo/2018/11/29/23/34/cat-3846780__340.jpg',\n",
              " 'https://cdn.pixabay.com/photo/2018/07/13/10/20/cat-3535404__340.jpg',\n",
              " 'https://cdn.pixabay.com/photo/2018/05/03/22/34/lion-3372720__340.jpg',\n",
              " 'https://cdn.pixabay.com/photo/2018/06/03/08/57/cat-3449999__340.jpg',\n",
              " 'https://cdn.pixabay.com/photo/2018/03/27/17/25/cat-3266673__340.jpg',\n",
              " 'https://cdn.pixabay.com/photo/2018/03/26/02/05/cat-3261420__340.jpg',\n",
              " 'https://cdn.pixabay.com/photo/2018/04/20/17/18/cat-3336579__340.jpg',\n",
              " 'https://cdn.pixabay.com/photo/2018/01/11/23/16/woman-3077180__340.jpg',\n",
              " 'https://cdn.pixabay.com/photo/2018/05/30/19/29/cat-3442257__340.jpg',\n",
              " 'https://cdn.pixabay.com/photo/2018/07/31/11/14/lion-3574819__340.jpg']"
            ]
          },
          "metadata": {},
          "execution_count": 23
        }
      ]
    },
    {
      "cell_type": "code",
      "source": [
        "print('2017 데이터는 총 %s건 입니다' %len(img_src_2017))\n",
        "for i in img_src_2017:\n",
        "  print(i)"
      ],
      "metadata": {
        "id": "ZFa_pmViVBCa",
        "colab": {
          "base_uri": "https://localhost:8080/"
        },
        "outputId": "263e9cf7-f72c-44c6-c153-dcfd1774626d"
      },
      "execution_count": null,
      "outputs": [
        {
          "output_type": "stream",
          "name": "stdout",
          "text": [
            "2017 데이터는 총 20건 입니다\n",
            "https://cdn.pixabay.com/photo/2017/02/20/18/03/cat-2083492__340.jpg\n",
            "https://cdn.pixabay.com/photo/2017/11/14/13/06/kitty-2948404__340.jpg\n",
            "https://cdn.pixabay.com/photo/2017/07/24/19/57/tiger-2535888__340.jpg\n",
            "https://cdn.pixabay.com/photo/2017/11/06/09/53/animal-2923186__340.jpg\n",
            "https://cdn.pixabay.com/photo/2017/07/25/01/22/cat-2536662__340.jpg\n",
            "https://cdn.pixabay.com/photo/2017/05/17/12/42/tiger-2320819__340.jpg\n",
            "https://cdn.pixabay.com/photo/2017/11/09/21/41/cat-2934720__340.jpg\n",
            "https://cdn.pixabay.com/photo/2017/12/09/21/33/sunset-3008779__340.jpg\n",
            "https://cdn.pixabay.com/photo/2017/03/14/14/49/cat-2143332__340.jpg\n",
            "https://cdn.pixabay.com/photo/2017/08/23/08/33/cats-eyes-2671903__340.jpg\n",
            "https://cdn.pixabay.com/photo/2017/12/11/15/34/lion-3012515__340.jpg\n",
            "https://cdn.pixabay.com/photo/2017/04/30/18/33/cat-2273598__340.jpg\n",
            "https://cdn.pixabay.com/photo/2017/11/13/07/14/cat-eyes-2944820__340.jpg\n",
            "https://cdn.pixabay.com/photo/2017/10/30/19/41/puma-2903312__340.jpg\n",
            "https://cdn.pixabay.com/photo/2017/01/12/21/42/amurtiger-1975790__340.jpg\n",
            "https://cdn.pixabay.com/photo/2017/01/16/23/10/snow-leopard-1985510__340.jpg\n",
            "https://cdn.pixabay.com/photo/2017/08/07/18/57/dog-2606759__340.jpg\n",
            "https://cdn.pixabay.com/photo/2017/02/15/12/12/cat-2068462__340.jpg\n",
            "https://cdn.pixabay.com/photo/2017/03/29/09/59/cat-2184682__340.jpg\n",
            "https://cdn.pixabay.com/photo/2017/11/22/08/07/cat-2969932__340.jpg\n"
          ]
        }
      ]
    },
    {
      "cell_type": "code",
      "source": [
        "print(\"2018년 데이터는 총 %s건 입니다\" %len(img_src_2018))\n",
        "for i in img_src_2018 :\n",
        "    print(i)"
      ],
      "metadata": {
        "id": "KGFdic8xVTNl",
        "colab": {
          "base_uri": "https://localhost:8080/"
        },
        "outputId": "bcf14952-66a9-4040-90c8-083e64db6120"
      },
      "execution_count": null,
      "outputs": [
        {
          "output_type": "stream",
          "name": "stdout",
          "text": [
            "2018년 데이터는 총 18건 입니다\n",
            "https://cdn.pixabay.com/photo/2018/07/31/22/08/lion-3576045__340.jpg\n",
            "https://cdn.pixabay.com/photo/2018/03/26/20/49/tiger-3264048__340.jpg\n",
            "https://cdn.pixabay.com/photo/2018/01/25/14/12/nature-3106213__340.jpg\n",
            "https://cdn.pixabay.com/photo/2018/01/28/12/37/cat-3113513__340.jpg\n",
            "https://cdn.pixabay.com/photo/2018/05/04/16/50/cat-3374422__340.jpg\n",
            "https://cdn.pixabay.com/photo/2018/04/13/21/24/lion-3317670__340.jpg\n",
            "https://cdn.pixabay.com/photo/2018/07/08/14/16/cat-3523992__340.jpg\n",
            "https://cdn.pixabay.com/photo/2018/01/04/18/58/cats-3061372__340.jpg\n",
            "https://cdn.pixabay.com/photo/2018/11/29/23/34/cat-3846780__340.jpg\n",
            "https://cdn.pixabay.com/photo/2018/07/13/10/20/cat-3535404__340.jpg\n",
            "https://cdn.pixabay.com/photo/2018/05/03/22/34/lion-3372720__340.jpg\n",
            "https://cdn.pixabay.com/photo/2018/06/03/08/57/cat-3449999__340.jpg\n",
            "https://cdn.pixabay.com/photo/2018/03/27/17/25/cat-3266673__340.jpg\n",
            "https://cdn.pixabay.com/photo/2018/03/26/02/05/cat-3261420__340.jpg\n",
            "https://cdn.pixabay.com/photo/2018/04/20/17/18/cat-3336579__340.jpg\n",
            "https://cdn.pixabay.com/photo/2018/01/11/23/16/woman-3077180__340.jpg\n",
            "https://cdn.pixabay.com/photo/2018/05/30/19/29/cat-3442257__340.jpg\n",
            "https://cdn.pixabay.com/photo/2018/07/31/11/14/lion-3574819__340.jpg\n"
          ]
        }
      ]
    },
    {
      "cell_type": "code",
      "source": [
        "import requests\n",
        "from bs4 import BeautifulSoup as bs"
      ],
      "metadata": {
        "id": "uf1SXvfhX_tC"
      },
      "execution_count": null,
      "outputs": []
    },
    {
      "cell_type": "code",
      "source": [
        "page = requests.get(\"http://www.heritage.go.kr/heri/cul/culSelectViewList.do?gbn=2&pageNo=1_1_1_0&searchCondition=&region=1&s_kdcd=11&ccbaCndt=&stCcbaAsno=&endCcbaAsno=&stCcbaAsdt=&endCcbaAsdt=&s_ctcd=00&ccbaPcd1=99\")\n",
        "heritage = bs(page.text, \"html.parser\")"
      ],
      "metadata": {
        "id": "1ibCo47V4NFT"
      },
      "execution_count": null,
      "outputs": []
    },
    {
      "cell_type": "code",
      "source": [
        "names = heritage.select('ul.search-result li > a > strong')\n",
        "\n",
        "for index, name in enumerate(names, 1):\n",
        "    name = name.text.strip()\n",
        "    name = name.split('(')\n",
        "    name = name[0].strip()\n",
        "    print(\"{} 번째 국보의 이름: {}\".format(index, name))"
      ],
      "metadata": {
        "colab": {
          "base_uri": "https://localhost:8080/"
        },
        "id": "WbEm0oIZYsnF",
        "outputId": "60902226-da5f-4a9a-a983-81c75ebe99e0"
      },
      "execution_count": null,
      "outputs": [
        {
          "output_type": "stream",
          "name": "stdout",
          "text": [
            "1 번째 국보의 이름: 서울 숭례문\n",
            "2 번째 국보의 이름: 서울 원각사지 십층석탑\n",
            "3 번째 국보의 이름: 서울 북한산 신라 진흥왕 순수비\n",
            "4 번째 국보의 이름: 여주 고달사지 승탑\n",
            "5 번째 국보의 이름: 보은 법주사 쌍사자 석등\n",
            "6 번째 국보의 이름: 충주 탑평리 칠층석탑\n",
            "7 번째 국보의 이름: 천안 봉선홍경사 갈기비\n",
            "8 번째 국보의 이름: 보령 성주사지 대낭혜화상탑비\n",
            "9 번째 국보의 이름: 부여 정림사지 오층석탑\n",
            "10 번째 국보의 이름: 남원 실상사 백장암 삼층석탑\n",
            "11 번째 국보의 이름: 익산 미륵사지 석탑\n",
            "12 번째 국보의 이름: 구례 화엄사 각황전 앞 석등\n"
          ]
        }
      ]
    },
    {
      "cell_type": "code",
      "source": [
        "img_src = heritage.select('span.img-wrap > img')\n",
        "print(len(img_src))"
      ],
      "metadata": {
        "colab": {
          "base_uri": "https://localhost:8080/"
        },
        "id": "LnsB-qY7fJha",
        "outputId": "b2ea533d-7363-449c-9e41-6287f5d78432"
      },
      "execution_count": null,
      "outputs": [
        {
          "output_type": "stream",
          "name": "stdout",
          "text": [
            "12\n"
          ]
        }
      ]
    },
    {
      "cell_type": "code",
      "source": [
        "for c in img_src:\n",
        "  img_url = c['src']\n",
        "  print(img_url)"
      ],
      "metadata": {
        "colab": {
          "base_uri": "https://localhost:8080/"
        },
        "id": "D_Js7tKSdomp",
        "outputId": "0708b974-7c61-42d4-9e90-521ce1b21298"
      },
      "execution_count": null,
      "outputs": [
        {
          "output_type": "stream",
          "name": "stdout",
          "text": [
            "https://www.heritage.go.kr/unisearch/images/national_treasure/thumb/2021042017434700.JPG\n",
            "https://www.heritage.go.kr/unisearch/images/national_treasure/thumb/1611450.jpg\n",
            "https://www.heritage.go.kr/unisearch/images/national_treasure/thumb/1611462.jpg\n",
            "https://www.heritage.go.kr/unisearch/images/national_treasure/thumb/1612035.jpg\n",
            "https://www.heritage.go.kr/unisearch/images/national_treasure/thumb/1612140.jpg\n",
            "https://www.heritage.go.kr/unisearch/images/national_treasure/thumb/1612146.jpg\n",
            "https://www.heritage.go.kr/unisearch/images/national_treasure/thumb/1612207.jpg\n",
            "https://www.heritage.go.kr/unisearch/images/national_treasure/thumb/1612216.jpg\n",
            "https://www.heritage.go.kr/unisearch/images/national_treasure/thumb/2021051411044001.jpg\n",
            "https://www.heritage.go.kr/unisearch/images/national_treasure/thumb/1612339.jpg\n",
            "https://www.heritage.go.kr/unisearch/images/national_treasure/thumb/2021030208283100.jpg\n",
            "https://www.heritage.go.kr/unisearch/images/national_treasure/thumb/1612404.jpg\n"
          ]
        }
      ]
    },
    {
      "cell_type": "code",
      "source": [
        "import pandas as pd"
      ],
      "metadata": {
        "id": "BPzUNX32o7pR"
      },
      "execution_count": null,
      "outputs": []
    },
    {
      "cell_type": "code",
      "source": [
        "names = heritage.select('ul.search-result li > a > strong')\n",
        "titles = []\n",
        "\n",
        "for index, name in enumerate(names, 1):\n",
        "\t\tprint(\"{} 번째 국보의 이름: {}\".format(index, name.text))"
      ],
      "metadata": {
        "id": "0merMlif_V5H",
        "colab": {
          "base_uri": "https://localhost:8080/"
        },
        "outputId": "ca0403d1-6ae3-42fc-cfc8-e1c04a57b6e6"
      },
      "execution_count": null,
      "outputs": [
        {
          "output_type": "stream",
          "name": "stdout",
          "text": [
            "1 번째 국보의 이름: \r\n",
            "\t                                            \t서울 숭례문\r\n",
            "\t                                                \r\n",
            "\t                                                \t(서울 崇禮門)\r\n",
            "\t                                                \r\n",
            "\t                                            \n",
            "2 번째 국보의 이름: \r\n",
            "\t                                            \t서울 원각사지 십층석탑\r\n",
            "\t                                                \r\n",
            "\t                                                \t(서울 圓覺寺址 十層石塔)\r\n",
            "\t                                                \r\n",
            "\t                                            \n",
            "3 번째 국보의 이름: \r\n",
            "\t                                            \t서울 북한산 신라 진흥왕 순수비\r\n",
            "\t                                                \r\n",
            "\t                                                \t(서울 北漢山 新羅 眞興王 巡狩碑)\r\n",
            "\t                                                \r\n",
            "\t                                            \n",
            "4 번째 국보의 이름: \r\n",
            "\t                                            \t여주 고달사지 승탑\r\n",
            "\t                                                \r\n",
            "\t                                                \t(驪州 高達寺址 僧塔)\r\n",
            "\t                                                \r\n",
            "\t                                            \n",
            "5 번째 국보의 이름: \r\n",
            "\t                                            \t보은 법주사 쌍사자 석등\r\n",
            "\t                                                \r\n",
            "\t                                                \t(報恩 法住寺 雙獅子 石燈)\r\n",
            "\t                                                \r\n",
            "\t                                            \n",
            "6 번째 국보의 이름: \r\n",
            "\t                                            \t충주 탑평리 칠층석탑\r\n",
            "\t                                                \r\n",
            "\t                                                \t(忠州 塔坪里 七層石塔)\r\n",
            "\t                                                \r\n",
            "\t                                            \n",
            "7 번째 국보의 이름: \r\n",
            "\t                                            \t천안 봉선홍경사 갈기비\r\n",
            "\t                                                \r\n",
            "\t                                                \t(天安 奉先弘慶寺 碣記碑)\r\n",
            "\t                                                \r\n",
            "\t                                            \n",
            "8 번째 국보의 이름: \r\n",
            "\t                                            \t보령 성주사지 대낭혜화상탑비\r\n",
            "\t                                                \r\n",
            "\t                                                \t(保寧 聖住寺址 大朗慧和尙塔碑)\r\n",
            "\t                                                \r\n",
            "\t                                            \n",
            "9 번째 국보의 이름: \r\n",
            "\t                                            \t부여 정림사지 오층석탑\r\n",
            "\t                                                \r\n",
            "\t                                                \t(扶餘 定林寺址 五層石塔)\r\n",
            "\t                                                \r\n",
            "\t                                            \n",
            "10 번째 국보의 이름: \r\n",
            "\t                                            \t남원 실상사 백장암 삼층석탑\r\n",
            "\t                                                \r\n",
            "\t                                                \t(南原 實相寺 百丈庵 三層石塔)\r\n",
            "\t                                                \r\n",
            "\t                                            \n",
            "11 번째 국보의 이름: \r\n",
            "\t                                            \t익산 미륵사지 석탑\r\n",
            "\t                                                \r\n",
            "\t                                                \t(益山 彌勒寺址 石塔)\r\n",
            "\t                                                \r\n",
            "\t                                            \n",
            "12 번째 국보의 이름: \r\n",
            "\t                                            \t구례 화엄사 각황전 앞 석등\r\n",
            "\t                                                \r\n",
            "\t                                                \t(求禮 華嚴寺 覺皇殿 앞 石燈)\r\n",
            "\t                                                \r\n",
            "\t                                            \n"
          ]
        }
      ]
    },
    {
      "cell_type": "markdown",
      "source": [
        "- strip() 함수: 문자열의 양쪽에 있는 공백을 제거하는 함수\n",
        "- split() 함수: 문자열을 특정 구분자를 기준으로 분할하는 함수"
      ],
      "metadata": {
        "id": "zMjcfA16_d0O"
      }
    },
    {
      "cell_type": "code",
      "source": [
        "names = heritage.select('ul.search-result li > a > strong')\n",
        "titles = []\n",
        "for name in names:\n",
        "    title = name.text.strip()\n",
        "    title = title.split('(')\n",
        "    title = title[0].strip()\n",
        "    titles.append(title)"
      ],
      "metadata": {
        "id": "suErr-zAnwP6"
      },
      "execution_count": null,
      "outputs": []
    },
    {
      "cell_type": "code",
      "source": [
        "titles"
      ],
      "metadata": {
        "colab": {
          "base_uri": "https://localhost:8080/"
        },
        "id": "AfIYduimxQvp",
        "outputId": "631b452a-4411-4f42-fdd1-ac8699c6fc3f"
      },
      "execution_count": null,
      "outputs": [
        {
          "output_type": "execute_result",
          "data": {
            "text/plain": [
              "['서울 숭례문',\n",
              " '서울 원각사지 십층석탑',\n",
              " '서울 북한산 신라 진흥왕 순수비',\n",
              " '여주 고달사지 승탑',\n",
              " '보은 법주사 쌍사자 석등',\n",
              " '충주 탑평리 칠층석탑',\n",
              " '천안 봉선홍경사 갈기비',\n",
              " '보령 성주사지 대낭혜화상탑비',\n",
              " '부여 정림사지 오층석탑',\n",
              " '남원 실상사 백장암 삼층석탑',\n",
              " '익산 미륵사지 석탑',\n",
              " '구례 화엄사 각황전 앞 석등']"
            ]
          },
          "metadata": {},
          "execution_count": 14
        }
      ]
    },
    {
      "cell_type": "code",
      "source": [
        "img_src = heritage.select('span.img-wrap > img')\n",
        "imgs = []\n",
        "\n",
        "for c in img_src:\n",
        "    img_url = c['src']\n",
        "    imgs.append(img_url)"
      ],
      "metadata": {
        "id": "WbxkWY8RvMYv"
      },
      "execution_count": null,
      "outputs": []
    },
    {
      "cell_type": "code",
      "source": [
        "df = pd.DataFrame()\n",
        "df['이름'] = titles\n",
        "df['이미지 주소'] = imgs"
      ],
      "metadata": {
        "id": "O-wcpMMYozOg",
        "outputId": "1d9a57fb-1403-4420-a97f-a7c842518672",
        "colab": {
          "base_uri": "https://localhost:8080/",
          "height": 201
        }
      },
      "execution_count": null,
      "outputs": [
        {
          "output_type": "error",
          "ename": "NameError",
          "evalue": "ignored",
          "traceback": [
            "\u001b[0;31m---------------------------------------------------------------------------\u001b[0m",
            "\u001b[0;31mNameError\u001b[0m                                 Traceback (most recent call last)",
            "\u001b[0;32m<ipython-input-1-c06ece41049a>\u001b[0m in \u001b[0;36m<cell line: 1>\u001b[0;34m()\u001b[0m\n\u001b[0;32m----> 1\u001b[0;31m \u001b[0mdf\u001b[0m \u001b[0;34m=\u001b[0m \u001b[0mpd\u001b[0m\u001b[0;34m.\u001b[0m\u001b[0mDataFrame\u001b[0m\u001b[0;34m(\u001b[0m\u001b[0;34m)\u001b[0m\u001b[0;34m\u001b[0m\u001b[0;34m\u001b[0m\u001b[0m\n\u001b[0m\u001b[1;32m      2\u001b[0m \u001b[0mdf\u001b[0m\u001b[0;34m[\u001b[0m\u001b[0;34m'이름'\u001b[0m\u001b[0;34m]\u001b[0m \u001b[0;34m=\u001b[0m \u001b[0mtitles\u001b[0m\u001b[0;34m\u001b[0m\u001b[0;34m\u001b[0m\u001b[0m\n\u001b[1;32m      3\u001b[0m \u001b[0mdf\u001b[0m\u001b[0;34m[\u001b[0m\u001b[0;34m'이미지 주소'\u001b[0m\u001b[0;34m]\u001b[0m \u001b[0;34m=\u001b[0m \u001b[0mimgs\u001b[0m\u001b[0;34m\u001b[0m\u001b[0;34m\u001b[0m\u001b[0m\n",
            "\u001b[0;31mNameError\u001b[0m: name 'pd' is not defined"
          ]
        }
      ]
    },
    {
      "cell_type": "code",
      "source": [
        "df.head()"
      ],
      "metadata": {
        "colab": {
          "base_uri": "https://localhost:8080/",
          "height": 206
        },
        "id": "GvDfuYFV61Gh",
        "outputId": "97db7b24-c400-4af7-8cbf-83e1a2878b34"
      },
      "execution_count": null,
      "outputs": [
        {
          "output_type": "execute_result",
          "data": {
            "text/plain": [
              "              titles                                               imgs\n",
              "0             서울 숭례문  https://www.heritage.go.kr/unisearch/images/na...\n",
              "1       서울 원각사지 십층석탑  https://www.heritage.go.kr/unisearch/images/na...\n",
              "2  서울 북한산 신라 진흥왕 순수비  https://www.heritage.go.kr/unisearch/images/na...\n",
              "3         여주 고달사지 승탑  https://www.heritage.go.kr/unisearch/images/na...\n",
              "4      보은 법주사 쌍사자 석등  https://www.heritage.go.kr/unisearch/images/na..."
            ],
            "text/html": [
              "\n",
              "  <div id=\"df-ff63d461-c158-4623-9f4b-4394a2a0292d\">\n",
              "    <div class=\"colab-df-container\">\n",
              "      <div>\n",
              "<style scoped>\n",
              "    .dataframe tbody tr th:only-of-type {\n",
              "        vertical-align: middle;\n",
              "    }\n",
              "\n",
              "    .dataframe tbody tr th {\n",
              "        vertical-align: top;\n",
              "    }\n",
              "\n",
              "    .dataframe thead th {\n",
              "        text-align: right;\n",
              "    }\n",
              "</style>\n",
              "<table border=\"1\" class=\"dataframe\">\n",
              "  <thead>\n",
              "    <tr style=\"text-align: right;\">\n",
              "      <th></th>\n",
              "      <th>titles</th>\n",
              "      <th>imgs</th>\n",
              "    </tr>\n",
              "  </thead>\n",
              "  <tbody>\n",
              "    <tr>\n",
              "      <th>0</th>\n",
              "      <td>서울 숭례문</td>\n",
              "      <td>https://www.heritage.go.kr/unisearch/images/na...</td>\n",
              "    </tr>\n",
              "    <tr>\n",
              "      <th>1</th>\n",
              "      <td>서울 원각사지 십층석탑</td>\n",
              "      <td>https://www.heritage.go.kr/unisearch/images/na...</td>\n",
              "    </tr>\n",
              "    <tr>\n",
              "      <th>2</th>\n",
              "      <td>서울 북한산 신라 진흥왕 순수비</td>\n",
              "      <td>https://www.heritage.go.kr/unisearch/images/na...</td>\n",
              "    </tr>\n",
              "    <tr>\n",
              "      <th>3</th>\n",
              "      <td>여주 고달사지 승탑</td>\n",
              "      <td>https://www.heritage.go.kr/unisearch/images/na...</td>\n",
              "    </tr>\n",
              "    <tr>\n",
              "      <th>4</th>\n",
              "      <td>보은 법주사 쌍사자 석등</td>\n",
              "      <td>https://www.heritage.go.kr/unisearch/images/na...</td>\n",
              "    </tr>\n",
              "  </tbody>\n",
              "</table>\n",
              "</div>\n",
              "      <button class=\"colab-df-convert\" onclick=\"convertToInteractive('df-ff63d461-c158-4623-9f4b-4394a2a0292d')\"\n",
              "              title=\"Convert this dataframe to an interactive table.\"\n",
              "              style=\"display:none;\">\n",
              "        \n",
              "  <svg xmlns=\"http://www.w3.org/2000/svg\" height=\"24px\"viewBox=\"0 0 24 24\"\n",
              "       width=\"24px\">\n",
              "    <path d=\"M0 0h24v24H0V0z\" fill=\"none\"/>\n",
              "    <path d=\"M18.56 5.44l.94 2.06.94-2.06 2.06-.94-2.06-.94-.94-2.06-.94 2.06-2.06.94zm-11 1L8.5 8.5l.94-2.06 2.06-.94-2.06-.94L8.5 2.5l-.94 2.06-2.06.94zm10 10l.94 2.06.94-2.06 2.06-.94-2.06-.94-.94-2.06-.94 2.06-2.06.94z\"/><path d=\"M17.41 7.96l-1.37-1.37c-.4-.4-.92-.59-1.43-.59-.52 0-1.04.2-1.43.59L10.3 9.45l-7.72 7.72c-.78.78-.78 2.05 0 2.83L4 21.41c.39.39.9.59 1.41.59.51 0 1.02-.2 1.41-.59l7.78-7.78 2.81-2.81c.8-.78.8-2.07 0-2.86zM5.41 20L4 18.59l7.72-7.72 1.47 1.35L5.41 20z\"/>\n",
              "  </svg>\n",
              "      </button>\n",
              "      \n",
              "  <style>\n",
              "    .colab-df-container {\n",
              "      display:flex;\n",
              "      flex-wrap:wrap;\n",
              "      gap: 12px;\n",
              "    }\n",
              "\n",
              "    .colab-df-convert {\n",
              "      background-color: #E8F0FE;\n",
              "      border: none;\n",
              "      border-radius: 50%;\n",
              "      cursor: pointer;\n",
              "      display: none;\n",
              "      fill: #1967D2;\n",
              "      height: 32px;\n",
              "      padding: 0 0 0 0;\n",
              "      width: 32px;\n",
              "    }\n",
              "\n",
              "    .colab-df-convert:hover {\n",
              "      background-color: #E2EBFA;\n",
              "      box-shadow: 0px 1px 2px rgba(60, 64, 67, 0.3), 0px 1px 3px 1px rgba(60, 64, 67, 0.15);\n",
              "      fill: #174EA6;\n",
              "    }\n",
              "\n",
              "    [theme=dark] .colab-df-convert {\n",
              "      background-color: #3B4455;\n",
              "      fill: #D2E3FC;\n",
              "    }\n",
              "\n",
              "    [theme=dark] .colab-df-convert:hover {\n",
              "      background-color: #434B5C;\n",
              "      box-shadow: 0px 1px 3px 1px rgba(0, 0, 0, 0.15);\n",
              "      filter: drop-shadow(0px 1px 2px rgba(0, 0, 0, 0.3));\n",
              "      fill: #FFFFFF;\n",
              "    }\n",
              "  </style>\n",
              "\n",
              "      <script>\n",
              "        const buttonEl =\n",
              "          document.querySelector('#df-ff63d461-c158-4623-9f4b-4394a2a0292d button.colab-df-convert');\n",
              "        buttonEl.style.display =\n",
              "          google.colab.kernel.accessAllowed ? 'block' : 'none';\n",
              "\n",
              "        async function convertToInteractive(key) {\n",
              "          const element = document.querySelector('#df-ff63d461-c158-4623-9f4b-4394a2a0292d');\n",
              "          const dataTable =\n",
              "            await google.colab.kernel.invokeFunction('convertToInteractive',\n",
              "                                                     [key], {});\n",
              "          if (!dataTable) return;\n",
              "\n",
              "          const docLinkHtml = 'Like what you see? Visit the ' +\n",
              "            '<a target=\"_blank\" href=https://colab.research.google.com/notebooks/data_table.ipynb>data table notebook</a>'\n",
              "            + ' to learn more about interactive tables.';\n",
              "          element.innerHTML = '';\n",
              "          dataTable['output_type'] = 'display_data';\n",
              "          await google.colab.output.renderOutput(dataTable, element);\n",
              "          const docLink = document.createElement('div');\n",
              "          docLink.innerHTML = docLinkHtml;\n",
              "          element.appendChild(docLink);\n",
              "        }\n",
              "      </script>\n",
              "    </div>\n",
              "  </div>\n",
              "  "
            ]
          },
          "metadata": {},
          "execution_count": 17
        }
      ]
    },
    {
      "cell_type": "code",
      "source": [
        "df.to_excel('library_heritage.xlsx', sheet_name='Sheet1')"
      ],
      "metadata": {
        "id": "QZWfdE4xpwcS"
      },
      "execution_count": null,
      "outputs": []
    },
    {
      "cell_type": "code",
      "source": [],
      "metadata": {
        "id": "4DjVtnjCBEaY"
      },
      "execution_count": null,
      "outputs": []
    }
  ]
}